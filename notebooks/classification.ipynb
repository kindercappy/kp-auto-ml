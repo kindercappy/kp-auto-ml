{
 "cells": [
  {
   "cell_type": "code",
   "execution_count": null,
   "metadata": {},
   "outputs": [],
   "source": [
    "%load_ext autoreload\n",
    "%autoreload 2"
   ]
  },
  {
   "cell_type": "code",
   "execution_count": null,
   "metadata": {},
   "outputs": [],
   "source": [
    "import pandas as pd"
   ]
  },
  {
   "cell_type": "code",
   "execution_count": null,
   "metadata": {},
   "outputs": [],
   "source": [
    "train = pd.read_csv('../data/weather_classification_data.csv')\n",
    "train.head(1)"
   ]
  },
  {
   "cell_type": "code",
   "execution_count": null,
   "metadata": {},
   "outputs": [],
   "source": [
    "from auto_ml_kinder import pre_processing as pp"
   ]
  },
  {
   "cell_type": "code",
   "execution_count": null,
   "metadata": {},
   "outputs": [],
   "source": [
    "train.columns = train.columns.str.lower().str.replace(' ', '_')"
   ]
  },
  {
   "cell_type": "code",
   "execution_count": null,
   "metadata": {},
   "outputs": [],
   "source": [
    "train.head(1)"
   ]
  },
  {
   "cell_type": "code",
   "execution_count": null,
   "metadata": {},
   "outputs": [],
   "source": [
    "label_encode:list[pp.PreLabelEncoderConfig] = []\n",
    "label_encode.append(pp.PreLabelEncoderConfig(\n",
    "    column_name='cloud_cover',\n",
    "    label_encoding=list({pp.LabelEncodingDict(key, idx + 1) for idx, key in enumerate(train.cloud_cover.value_counts().keys())}))\n",
    "    )\n",
    "label_encode.append(pp.PreLabelEncoderConfig(\n",
    "    column_name='season',\n",
    "    label_encoding=list({pp.LabelEncodingDict(key, idx + 1) for idx, key in enumerate(train.season.value_counts().keys())}))\n",
    "    )\n",
    "label_encode.append(pp.PreLabelEncoderConfig(\n",
    "    column_name='location',\n",
    "    label_encoding=list({pp.LabelEncodingDict(key, idx + 1) for idx, key in enumerate(train.location.value_counts().keys())}))\n",
    "    )\n",
    "label_encode.append(pp.PreLabelEncoderConfig(\n",
    "    column_name='weather_type',\n",
    "    label_encoding=list({pp.LabelEncodingDict(key, idx + 0) for idx, key in enumerate(train.weather_type.value_counts().keys())}))\n",
    "    )\n",
    "# label_encode.append(pp.PreLabelEncoderConfig(\n",
    "#     column_name='restaurant_type',\n",
    "#     label_encoding=list({pp.LabelEncodingDict(key, idx + 1) for idx, key in enumerate(train.restaurant_type.value_counts().keys())}))\n",
    "#     )\n",
    "# label_encode.append(pp.PreLabelEncoderConfig(\n",
    "#     column_name='cuisine',\n",
    "#     label_encoding=list({pp.LabelEncodingDict(key, idx + 1) for idx, key in enumerate(train.cuisine.value_counts().keys())}))\n",
    "#     )\n",
    "\n",
    "numeric_col_changer:list[pp.PreNumericColDataChangeConfig] = []\n",
    "# numeric_col_changer.append(pp.PreNumericColDataChangeConfig(col_name='facebook_popularity_quotient',data_type=int))\n",
    "# numeric_col_changer.append(pp.PreNumericColDataChangeConfig(col_name='instagram_popularity_quotient',data_type=int))\n",
    "# numeric_col_changer.append(pp.PreNumericColDataChangeConfig(col_name='overall_restaurant_rating',data_type=int))\n",
    "# numeric_col_changer.append(pp.PreNumericColDataChangeConfig(col_name='live_music_rating',data_type=int))\n",
    "# numeric_col_changer.append(pp.PreNumericColDataChangeConfig(col_name='ambience',data_type=int))\n",
    "# numeric_col_changer.append(pp.PreNumericColDataChangeConfig(col_name='resturant_tier',data_type=int))\n",
    "\n",
    "model_config = pp.PreProcessingConfig(\n",
    "    encoding_dummies=[],\n",
    "    exclude_columns=[],\n",
    "    label_encode=label_encode,\n",
    "    numeric_cols_data_changer=numeric_col_changer,\n",
    "    target_column='weather_type',\n",
    "    is_classification=True\n",
    ")"
   ]
  },
  {
   "cell_type": "code",
   "execution_count": null,
   "metadata": {},
   "outputs": [],
   "source": [
    "pre_processed_df = pp.process(train,model_config)"
   ]
  },
  {
   "cell_type": "code",
   "execution_count": null,
   "metadata": {},
   "outputs": [],
   "source": [
    "pre_processed_df.head()"
   ]
  },
  {
   "cell_type": "code",
   "execution_count": null,
   "metadata": {},
   "outputs": [],
   "source": [
    "from auto_ml_kinder import model_training_data_prep as dp\n",
    "from auto_ml_kinder import model_training_helper as mth\n",
    "from auto_ml_kinder import model_list_helper as mlh"
   ]
  },
  {
   "cell_type": "code",
   "execution_count": null,
   "metadata": {},
   "outputs": [],
   "source": [
    "data = dp.ModelTrainingData(pre_processed_df, dp.ScalerType.STANDARD_SCALER, .95,use_pca=False,use_polynomials=False,use_feature_selection=False,create_clustering_feature_and_no_of_clusters=(False,3),is_classification=True)"
   ]
  },
  {
   "cell_type": "code",
   "execution_count": null,
   "metadata": {},
   "outputs": [],
   "source": [
    "import keras as k\n",
    "k.utils.to_categorical(data.Y_test_neural_network)"
   ]
  },
  {
   "cell_type": "code",
   "execution_count": null,
   "metadata": {},
   "outputs": [],
   "source": [
    "trainer = mth.ModelTrainer(data=data)"
   ]
  },
  {
   "cell_type": "code",
   "execution_count": null,
   "metadata": {},
   "outputs": [],
   "source": [
    "trainer.perform_operation_classification(exclude_models=[\n",
    "    mlh.ModelAndParamClassifiction.SVC_Classification,\n",
    "    mlh.ModelAndParamClassifiction.DecisionTree_Classifiction,\n",
    "    # mlh.ModelAndParamClassifiction.RandomForest_Classifiction,\n",
    "    mlh.ModelAndParamClassifiction.GradientBoosting_Classifiction,\n",
    "    mlh.ModelAndParamClassifiction.KNeighbors_Classifiction\n",
    "    ],permutate_n_less_column=0)\n",
    "trainer.performance_df"
   ]
  },
  {
   "cell_type": "code",
   "execution_count": null,
   "metadata": {},
   "outputs": [],
   "source": [
    "data = dp.ModelTrainingData(pre_processed_df, dp.ScalerType.QUANTILE_TRANSFORMER, .95,use_pca=False,use_polynomials=False,use_feature_selection=False,create_clustering_feature_and_no_of_clusters=(False,3))"
   ]
  },
  {
   "cell_type": "code",
   "execution_count": null,
   "metadata": {},
   "outputs": [],
   "source": [
    "trainer.data = data"
   ]
  },
  {
   "cell_type": "code",
   "execution_count": null,
   "metadata": {},
   "outputs": [],
   "source": [
    "trainer.perform_operation_classification(exclude_models=[\n",
    "    mlh.ModelAndParamClassifiction.SVC_Classification,\n",
    "    mlh.ModelAndParamClassifiction.DecisionTree_Classifiction,\n",
    "    mlh.ModelAndParamClassifiction.RandomForest_Classifiction,\n",
    "    mlh.ModelAndParamClassifiction.GradientBoosting_Classifiction,\n",
    "    mlh.ModelAndParamClassifiction.KNeighbors_Classifiction,\n",
    "    mlh.ModelAndParamClassifiction.Ridge_Classifiction\n",
    "    ],permutate_n_less_column=2)\n",
    "trainer.performance_df"
   ]
  },
  {
   "cell_type": "code",
   "execution_count": null,
   "metadata": {},
   "outputs": [],
   "source": [
    "trainer.performance_df.loc[trainer.performance_df['score'].idxmax()]"
   ]
  },
  {
   "cell_type": "code",
   "execution_count": null,
   "metadata": {},
   "outputs": [],
   "source": [
    "trainer.perform_neural_network_classification(totalExperiments=4,\n",
    "                                          params=mth.NeuralNetwork_BayesianOptimization_Params(\n",
    "                                              neurons_min_max=(128,128)\n",
    "                                              ,batch_size_min_max=(32,32)\n",
    "                                              ,dropout_rate_min_max=(.3,.7)\n",
    "                                              ,epochs_min_max=(50,100)\n",
    "                                              ,hidden_layers_min_max=(2,4)\n",
    "                                              ,learning_rate_min_max=(.001,.1)\n",
    "                                              ,normalization_min_max=(0,0)\n",
    "                                              ,dropout_min_max=(1,1)\n",
    "                                              ,activation_min_max=(0,3)\n",
    "                                              ))"
   ]
  },
  {
   "cell_type": "code",
   "execution_count": null,
   "metadata": {},
   "outputs": [],
   "source": [
    "trainer.neural_network_best_model_classification(epochs=10)"
   ]
  },
  {
   "cell_type": "code",
   "execution_count": null,
   "metadata": {},
   "outputs": [],
   "source": [
    "trainer.performance_df"
   ]
  },
  {
   "cell_type": "code",
   "execution_count": null,
   "metadata": {},
   "outputs": [],
   "source": [
    "import numpy as np\n",
    "np.argmax(data.Y_test_neural_network, axis=1)"
   ]
  },
  {
   "cell_type": "code",
   "execution_count": null,
   "metadata": {},
   "outputs": [],
   "source": [
    "data.Y_test_neural_network"
   ]
  }
 ],
 "metadata": {
  "kernelspec": {
   "display_name": "Python 3",
   "language": "python",
   "name": "python3"
  },
  "language_info": {
   "codemirror_mode": {
    "name": "ipython",
    "version": 3
   },
   "file_extension": ".py",
   "mimetype": "text/x-python",
   "name": "python",
   "nbconvert_exporter": "python",
   "pygments_lexer": "ipython3",
   "version": "3.10.11"
  }
 },
 "nbformat": 4,
 "nbformat_minor": 2
}
