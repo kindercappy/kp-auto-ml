{
 "cells": [
  {
   "cell_type": "code",
   "execution_count": 11,
   "metadata": {},
   "outputs": [
    {
     "name": "stdout",
     "output_type": "stream",
     "text": [
      "The autoreload extension is already loaded. To reload it, use:\n",
      "  %reload_ext autoreload\n"
     ]
    }
   ],
   "source": [
    "%load_ext autoreload\n",
    "%autoreload 2"
   ]
  },
  {
   "cell_type": "code",
   "execution_count": 2,
   "metadata": {},
   "outputs": [],
   "source": [
    "import pandas as pd"
   ]
  },
  {
   "cell_type": "code",
   "execution_count": 3,
   "metadata": {},
   "outputs": [
    {
     "data": {
      "text/html": [
       "<div>\n",
       "<style scoped>\n",
       "    .dataframe tbody tr th:only-of-type {\n",
       "        vertical-align: middle;\n",
       "    }\n",
       "\n",
       "    .dataframe tbody tr th {\n",
       "        vertical-align: top;\n",
       "    }\n",
       "\n",
       "    .dataframe thead th {\n",
       "        text-align: right;\n",
       "    }\n",
       "</style>\n",
       "<table border=\"1\" class=\"dataframe\">\n",
       "  <thead>\n",
       "    <tr style=\"text-align: right;\">\n",
       "      <th></th>\n",
       "      <th>Registration Number</th>\n",
       "      <th>Annual Turnover</th>\n",
       "      <th>Cuisine</th>\n",
       "      <th>City</th>\n",
       "      <th>Restaurant Location</th>\n",
       "      <th>Opening Day of Restaurant</th>\n",
       "      <th>Facebook Popularity Quotient</th>\n",
       "      <th>Endorsed By</th>\n",
       "      <th>Instagram Popularity Quotient</th>\n",
       "      <th>Fire Audit</th>\n",
       "      <th>...</th>\n",
       "      <th>Overall Restaurant Rating</th>\n",
       "      <th>Live Music Rating</th>\n",
       "      <th>Comedy Gigs Rating</th>\n",
       "      <th>Value Deals Rating</th>\n",
       "      <th>Live Sports Rating</th>\n",
       "      <th>Ambience</th>\n",
       "      <th>Lively</th>\n",
       "      <th>Service</th>\n",
       "      <th>Comfortablility</th>\n",
       "      <th>Privacy</th>\n",
       "    </tr>\n",
       "  </thead>\n",
       "  <tbody>\n",
       "    <tr>\n",
       "      <th>0</th>\n",
       "      <td>60001</td>\n",
       "      <td>42000000</td>\n",
       "      <td>indian,irish</td>\n",
       "      <td>Bangalore</td>\n",
       "      <td>Near Business Hub</td>\n",
       "      <td>14/02/09</td>\n",
       "      <td>84.3</td>\n",
       "      <td>Not Specific</td>\n",
       "      <td>95.8</td>\n",
       "      <td>1</td>\n",
       "      <td>...</td>\n",
       "      <td>10.0</td>\n",
       "      <td>4.0</td>\n",
       "      <td>NaN</td>\n",
       "      <td>NaN</td>\n",
       "      <td>NaN</td>\n",
       "      <td>8.0</td>\n",
       "      <td>8</td>\n",
       "      <td>6</td>\n",
       "      <td>6</td>\n",
       "      <td>6</td>\n",
       "    </tr>\n",
       "  </tbody>\n",
       "</table>\n",
       "<p>1 rows × 34 columns</p>\n",
       "</div>"
      ],
      "text/plain": [
       "   Registration Number  Annual Turnover       Cuisine       City  \\\n",
       "0                60001         42000000  indian,irish  Bangalore   \n",
       "\n",
       "  Restaurant Location Opening Day of Restaurant  Facebook Popularity Quotient  \\\n",
       "0   Near Business Hub                  14/02/09                          84.3   \n",
       "\n",
       "    Endorsed By  Instagram Popularity Quotient  Fire Audit  ...  \\\n",
       "0  Not Specific                           95.8           1  ...   \n",
       "\n",
       "   Overall Restaurant Rating  Live Music Rating  Comedy Gigs Rating  \\\n",
       "0                       10.0                4.0                 NaN   \n",
       "\n",
       "   Value Deals Rating  Live Sports Rating Ambience Lively  Service  \\\n",
       "0                 NaN                 NaN      8.0      8        6   \n",
       "\n",
       "   Comfortablility  Privacy  \n",
       "0                6        6  \n",
       "\n",
       "[1 rows x 34 columns]"
      ]
     },
     "execution_count": 3,
     "metadata": {},
     "output_type": "execute_result"
    }
   ],
   "source": [
    "train = pd.read_csv('../data/Train_dataset.csv')\n",
    "train.head(1)"
   ]
  },
  {
   "cell_type": "code",
   "execution_count": 4,
   "metadata": {},
   "outputs": [],
   "source": [
    "from auto_ml_kinder import pre_processing as pp"
   ]
  },
  {
   "cell_type": "code",
   "execution_count": 5,
   "metadata": {},
   "outputs": [],
   "source": [
    "train.columns = train.columns.str.lower().str.replace(' ', '_')"
   ]
  },
  {
   "cell_type": "code",
   "execution_count": 6,
   "metadata": {},
   "outputs": [
    {
     "data": {
      "text/html": [
       "<div>\n",
       "<style scoped>\n",
       "    .dataframe tbody tr th:only-of-type {\n",
       "        vertical-align: middle;\n",
       "    }\n",
       "\n",
       "    .dataframe tbody tr th {\n",
       "        vertical-align: top;\n",
       "    }\n",
       "\n",
       "    .dataframe thead th {\n",
       "        text-align: right;\n",
       "    }\n",
       "</style>\n",
       "<table border=\"1\" class=\"dataframe\">\n",
       "  <thead>\n",
       "    <tr style=\"text-align: right;\">\n",
       "      <th></th>\n",
       "      <th>registration_number</th>\n",
       "      <th>annual_turnover</th>\n",
       "      <th>cuisine</th>\n",
       "      <th>city</th>\n",
       "      <th>restaurant_location</th>\n",
       "      <th>opening_day_of_restaurant</th>\n",
       "      <th>facebook_popularity_quotient</th>\n",
       "      <th>endorsed_by</th>\n",
       "      <th>instagram_popularity_quotient</th>\n",
       "      <th>fire_audit</th>\n",
       "      <th>...</th>\n",
       "      <th>overall_restaurant_rating</th>\n",
       "      <th>live_music_rating</th>\n",
       "      <th>comedy_gigs_rating</th>\n",
       "      <th>value_deals_rating</th>\n",
       "      <th>live_sports_rating</th>\n",
       "      <th>ambience</th>\n",
       "      <th>lively</th>\n",
       "      <th>service</th>\n",
       "      <th>comfortablility</th>\n",
       "      <th>privacy</th>\n",
       "    </tr>\n",
       "  </thead>\n",
       "  <tbody>\n",
       "    <tr>\n",
       "      <th>0</th>\n",
       "      <td>60001</td>\n",
       "      <td>42000000</td>\n",
       "      <td>indian,irish</td>\n",
       "      <td>Bangalore</td>\n",
       "      <td>Near Business Hub</td>\n",
       "      <td>14/02/09</td>\n",
       "      <td>84.3</td>\n",
       "      <td>Not Specific</td>\n",
       "      <td>95.8</td>\n",
       "      <td>1</td>\n",
       "      <td>...</td>\n",
       "      <td>10.0</td>\n",
       "      <td>4.0</td>\n",
       "      <td>NaN</td>\n",
       "      <td>NaN</td>\n",
       "      <td>NaN</td>\n",
       "      <td>8.0</td>\n",
       "      <td>8</td>\n",
       "      <td>6</td>\n",
       "      <td>6</td>\n",
       "      <td>6</td>\n",
       "    </tr>\n",
       "  </tbody>\n",
       "</table>\n",
       "<p>1 rows × 34 columns</p>\n",
       "</div>"
      ],
      "text/plain": [
       "   registration_number  annual_turnover       cuisine       city  \\\n",
       "0                60001         42000000  indian,irish  Bangalore   \n",
       "\n",
       "  restaurant_location opening_day_of_restaurant  facebook_popularity_quotient  \\\n",
       "0   Near Business Hub                  14/02/09                          84.3   \n",
       "\n",
       "    endorsed_by  instagram_popularity_quotient  fire_audit  ...  \\\n",
       "0  Not Specific                           95.8           1  ...   \n",
       "\n",
       "   overall_restaurant_rating  live_music_rating  comedy_gigs_rating  \\\n",
       "0                       10.0                4.0                 NaN   \n",
       "\n",
       "   value_deals_rating  live_sports_rating ambience lively  service  \\\n",
       "0                 NaN                 NaN      8.0      8        6   \n",
       "\n",
       "   comfortablility  privacy  \n",
       "0                6        6  \n",
       "\n",
       "[1 rows x 34 columns]"
      ]
     },
     "execution_count": 6,
     "metadata": {},
     "output_type": "execute_result"
    }
   ],
   "source": [
    "train.head(1)"
   ]
  },
  {
   "cell_type": "code",
   "execution_count": 7,
   "metadata": {},
   "outputs": [],
   "source": [
    "label_encode:list[pp.PreLabelEncoderConfig] = []\n",
    "label_encode.append(pp.PreLabelEncoderConfig(\n",
    "    column_name='city',\n",
    "    label_encoding=list({pp.LabelEncodingDict(key, idx + 1) for idx, key in enumerate(train.city.value_counts().keys())}))\n",
    "    )\n",
    "label_encode.append(pp.PreLabelEncoderConfig(\n",
    "    column_name='restaurant_location',\n",
    "    label_encoding=list({pp.LabelEncodingDict(key, idx + 1) for idx, key in enumerate(train.restaurant_location.value_counts().keys())}))\n",
    "    )\n",
    "label_encode.append(pp.PreLabelEncoderConfig(\n",
    "    column_name='endorsed_by',\n",
    "    label_encoding=list({pp.LabelEncodingDict(key, idx + 1) for idx, key in enumerate(train.endorsed_by.value_counts().keys())}))\n",
    "    )\n",
    "label_encode.append(pp.PreLabelEncoderConfig(\n",
    "    column_name='restaurant_theme',\n",
    "    label_encoding=list({pp.LabelEncodingDict(key, idx + 1) for idx, key in enumerate(train.restaurant_theme.value_counts().keys())}))\n",
    "    )\n",
    "label_encode.append(pp.PreLabelEncoderConfig(\n",
    "    column_name='restaurant_type',\n",
    "    label_encoding=list({pp.LabelEncodingDict(key, idx + 1) for idx, key in enumerate(train.restaurant_type.value_counts().keys())}))\n",
    "    )\n",
    "label_encode.append(pp.PreLabelEncoderConfig(\n",
    "    column_name='cuisine',\n",
    "    label_encoding=list({pp.LabelEncodingDict(key, idx + 1) for idx, key in enumerate(train.cuisine.value_counts().keys())}))\n",
    "    )\n",
    "\n",
    "numeric_col_changer:list[pp.PreNumericColDataChangeConfig] = []\n",
    "numeric_col_changer.append(pp.PreNumericColDataChangeConfig(col_name='facebook_popularity_quotient',data_type=int))\n",
    "numeric_col_changer.append(pp.PreNumericColDataChangeConfig(col_name='instagram_popularity_quotient',data_type=int))\n",
    "numeric_col_changer.append(pp.PreNumericColDataChangeConfig(col_name='overall_restaurant_rating',data_type=int))\n",
    "numeric_col_changer.append(pp.PreNumericColDataChangeConfig(col_name='live_music_rating',data_type=int))\n",
    "numeric_col_changer.append(pp.PreNumericColDataChangeConfig(col_name='ambience',data_type=int))\n",
    "numeric_col_changer.append(pp.PreNumericColDataChangeConfig(col_name='resturant_tier',data_type=int))\n",
    "\n",
    "model_config = pp.PreProcessingConfig(\n",
    "    encoding_dummies=[],\n",
    "    exclude_columns=['opening_day_of_restaurant','registration_number'],\n",
    "    label_encode=label_encode,\n",
    "    numeric_cols_data_changer=numeric_col_changer,\n",
    "    target_column='annual_turnover'\n",
    ")"
   ]
  },
  {
   "cell_type": "code",
   "execution_count": 8,
   "metadata": {},
   "outputs": [
    {
     "name": "stdout",
     "output_type": "stream",
     "text": [
      "Dropping columns whose values are nullable greater than 0.7\n",
      "Removing unusable values like \" \" and \"?\"\n",
      "Filling NA values with median and mode for numeria and non-numeric columns.\n",
      "Performing IQR based outliers cleaning on target. annual_turnover\n",
      "Changing datatype of numeric columns.\n",
      "Performing label encoding on columns provided.\n",
      "Encoding using dummies.\n"
     ]
    }
   ],
   "source": [
    "pre_processed_df = pp.process(train,model_config)"
   ]
  },
  {
   "cell_type": "code",
   "execution_count": 26,
   "metadata": {},
   "outputs": [],
   "source": [
    "from auto_ml_kinder import model_training_data_prep as dp\n",
    "from auto_ml_kinder import model_training_helper as mth\n",
    "from auto_ml_kinder import model_list_helper as mlh\n",
    "from auto_ml_kinder.classes.ModelTrainingData import ModelTrainingData\n",
    "from auto_ml_kinder.classes.ModelTrainer import ModelTrainer\n",
    "from auto_ml_kinder.classes.ModelAndParamRegression import ModelAndParamRegression\n",
    "from auto_ml_kinder.classes.ScalerType import ScalerType as st"
   ]
  },
  {
   "cell_type": "code",
   "execution_count": 23,
   "metadata": {},
   "outputs": [
    {
     "name": "stdout",
     "output_type": "stream",
     "text": [
      "Grid tuning in progress for KMeans...\n",
      "Grid tuning in progress for Agglomerative Clustering...\n",
      "Mean Shift clustering does not require hyperparameter tuning.\n",
      "DBSCAN clustering does not require hyperparameter tuning.\n",
      "Birch clustering does not require hyperparameter tuning.\n",
      "Affinity Propagation clustering does not require hyperparameter tuning.\n",
      "Grid tuning in progress for Mini-Batch KMeans...\n",
      "Mean score for kmeans is: 0.3138318006628074\n",
      "Mean score for agglomerative is: 0.28354878064080197\n",
      "Mean score for mean_shift is: 0.7060275066147514\n",
      "Algorithm dbscan produced an invalid number of clusters: 1\n",
      "Mean score for birch is: 0.6109554600403464\n",
      "Mean score for affinity_propagation is: 0.07899823627482828\n",
      "Mean score for mini_batch_kmeans is: 0.20881899810622012\n",
      "Best algorithm: mean_shift with a score of: 0.7060275066147514\n",
      "Mean score of all clusters is: 0.6441476298784594\n",
      "Total columns being used after all data transformations: 29\n"
     ]
    }
   ],
   "source": [
    "data = ModelTrainingData(pre_processed_df, st.QUANTILE_TRANSFORMER, .90,use_pca=False,use_polynomials=False,use_feature_selection=False,create_clustering_feature_and_no_of_clusters=(True,5))"
   ]
  },
  {
   "cell_type": "code",
   "execution_count": 28,
   "metadata": {},
   "outputs": [],
   "source": [
    "trainer = ModelTrainer(data=data)"
   ]
  },
  {
   "cell_type": "code",
   "execution_count": 29,
   "metadata": {},
   "outputs": [
    {
     "name": "stdout",
     "output_type": "stream",
     "text": [
      "Total Permutations: 1\n",
      "Total Permutations: 1\n",
      "Total Permutations: 1\n",
      "Total Permutations: 1\n"
     ]
    },
    {
     "data": {
      "text/plain": [
       "model_name                                                  Ridge_Regression\n",
       "score                                                               0.235057\n",
       "RMSE                                                         11237258.620821\n",
       "total_columns                                                             29\n",
       "scaler_type                                              QuantileTransformer\n",
       "selected_features          cuisine, city, restaurant_location, facebook_p...\n",
       "num_of_clusters_if_used                                                    5\n",
       "accuracy                                                                None\n",
       "f1_score                                                                None\n",
       "Name: 1, dtype: object"
      ]
     },
     "execution_count": 29,
     "metadata": {},
     "output_type": "execute_result"
    }
   ],
   "source": [
    "trainer.perform_operation_regression(exclude_models=[ModelAndParamRegression.SVR_Regression,ModelAndParamRegression.DecisionTree_Regressor,ModelAndParamRegression.RandomForest_Regressor,ModelAndParamRegression.GradientBoosting_Regressor,ModelAndParamRegression.KNeighbors_Regressor],permutate_n_less_column=0)\n",
    "trainer.performance_df.loc[trainer.performance_df['score'].idxmax()]"
   ]
  },
  {
   "cell_type": "code",
   "execution_count": 31,
   "metadata": {},
   "outputs": [
    {
     "name": "stdout",
     "output_type": "stream",
     "text": [
      "Executing RandomForestFeaturesSelection function to get the best features that are used in training the model.\n",
      "Executing DecisionTreeClassifierFeaturesSelection function to get the best features that are used in training the model.\n",
      "Executing LassoFeaturesSelection function to get the best features that are used in training the model.\n",
      "Total columns :29\n",
      "Selected number of columns: 23\n",
      "Columns to use: facebook_popularity_quotient, live_music_rating, value_for_money, endorsed_by, order_wait_time, comfortablility, resturant_tier, privacy, fire_audit, overall_restaurant_rating, service, restaurant_zomato_rating, hygiene_rating, lively, liquor_license_obtained, restaurant_city_tier, dedicated_parking, cuisine, city, instagram_popularity_quotient, ambience, staff_responsivness, annual_turnover\n",
      "Grid tuning in progress for KMeans...\n",
      "Grid tuning in progress for Agglomerative Clustering...\n",
      "Mean Shift clustering does not require hyperparameter tuning.\n",
      "DBSCAN clustering does not require hyperparameter tuning.\n",
      "Birch clustering does not require hyperparameter tuning.\n",
      "Affinity Propagation clustering does not require hyperparameter tuning.\n",
      "Grid tuning in progress for Mini-Batch KMeans...\n",
      "Mean score for kmeans is: 0.32223448928503123\n",
      "Mean score for agglomerative is: 0.2538744510692173\n",
      "Mean score for mean_shift is: 0.7042919038609283\n",
      "Algorithm dbscan produced an invalid number of clusters: 1\n",
      "Mean score for birch is: 0.626803230508143\n",
      "Mean score for affinity_propagation is: 0.08831066258061036\n",
      "Mean score for mini_batch_kmeans is: 0.31791407900422897\n",
      "Best algorithm: mean_shift with a score of: 0.7042919038609283\n",
      "Mean score of all clusters is: 0.6459616662491872\n",
      "Total columns being used after all data transformations: 23\n"
     ]
    }
   ],
   "source": [
    "data = ModelTrainingData(pre_processed_df, st.QUANTILE_TRANSFORMER, .90,use_pca=False,use_polynomials=False,use_feature_selection=True,create_clustering_feature_and_no_of_clusters=(True,5))"
   ]
  },
  {
   "cell_type": "code",
   "execution_count": 32,
   "metadata": {},
   "outputs": [
    {
     "name": "stdout",
     "output_type": "stream",
     "text": [
      "Total Permutations: 1\n",
      "Total Permutations: 1\n",
      "Total Permutations: 1\n",
      "Total Permutations: 1\n"
     ]
    },
    {
     "data": {
      "text/plain": [
       "model_name                                                  Ridge_Regression\n",
       "score                                                               0.235057\n",
       "RMSE                                                         11237258.620821\n",
       "total_columns                                                             29\n",
       "scaler_type                                              QuantileTransformer\n",
       "selected_features          cuisine, city, restaurant_location, facebook_p...\n",
       "num_of_clusters_if_used                                                    5\n",
       "accuracy                                                                None\n",
       "f1_score                                                                None\n",
       "Name: 1, dtype: object"
      ]
     },
     "execution_count": 32,
     "metadata": {},
     "output_type": "execute_result"
    }
   ],
   "source": [
    "trainer.data = data\n",
    "trainer.perform_operation_regression(exclude_models=[ModelAndParamRegression.SVR_Regression,ModelAndParamRegression.DecisionTree_Regressor,ModelAndParamRegression.RandomForest_Regressor,ModelAndParamRegression.GradientBoosting_Regressor,ModelAndParamRegression.KNeighbors_Regressor],permutate_n_less_column=0)\n",
    "trainer.performance_df.loc[trainer.performance_df['score'].idxmax()]"
   ]
  },
  {
   "cell_type": "code",
   "execution_count": 34,
   "metadata": {},
   "outputs": [
    {
     "name": "stdout",
     "output_type": "stream",
     "text": [
      "Executing RandomForestFeaturesSelection function to get the best features that are used in training the model.\n",
      "Executing DecisionTreeClassifierFeaturesSelection function to get the best features that are used in training the model.\n",
      "Executing LassoFeaturesSelection function to get the best features that are used in training the model.\n",
      "Total columns :29\n",
      "Selected number of columns: 23\n",
      "Columns to use: facebook_popularity_quotient, live_music_rating, value_for_money, endorsed_by, order_wait_time, comfortablility, resturant_tier, privacy, fire_audit, overall_restaurant_rating, service, restaurant_zomato_rating, hygiene_rating, lively, liquor_license_obtained, restaurant_city_tier, dedicated_parking, cuisine, city, instagram_popularity_quotient, ambience, staff_responsivness, annual_turnover\n",
      "Grid tuning in progress for KMeans...\n",
      "Grid tuning in progress for Agglomerative Clustering...\n",
      "Mean Shift clustering does not require hyperparameter tuning.\n",
      "DBSCAN clustering does not require hyperparameter tuning.\n",
      "Birch clustering does not require hyperparameter tuning.\n",
      "Affinity Propagation clustering does not require hyperparameter tuning.\n",
      "Grid tuning in progress for Mini-Batch KMeans...\n",
      "Mean score for kmeans is: 0.32223448928503123\n",
      "Mean score for agglomerative is: 0.2538744510692173\n",
      "Mean score for mean_shift is: 0.7042919038609283\n",
      "Algorithm dbscan produced an invalid number of clusters: 1\n",
      "Mean score for birch is: 0.626803230508143\n",
      "Mean score for affinity_propagation is: 0.08831066258061036\n",
      "Mean score for mini_batch_kmeans is: 0.31791407900422897\n",
      "Best algorithm: mean_shift with a score of: 0.7042919038609283\n",
      "Mean score of all clusters is: 0.6459616662491872\n",
      "Total columns being used after all data transformations: 22\n"
     ]
    }
   ],
   "source": [
    "data = ModelTrainingData(pre_processed_df, st.QUANTILE_TRANSFORMER, .90,use_pca=True,use_polynomials=True,use_feature_selection=True,create_clustering_feature_and_no_of_clusters=(True,5))"
   ]
  },
  {
   "cell_type": "code",
   "execution_count": 35,
   "metadata": {},
   "outputs": [
    {
     "name": "stdout",
     "output_type": "stream",
     "text": [
      "Total Permutations: 1\n",
      "Total Permutations: 1\n",
      "Total Permutations: 1\n",
      "Total Permutations: 1\n"
     ]
    },
    {
     "data": {
      "text/plain": [
       "model_name                                                  Lasso_Regression\n",
       "score                                                               0.239892\n",
       "RMSE                                                         11201691.669553\n",
       "total_columns                                                             22\n",
       "scaler_type                                              QuantileTransformer\n",
       "selected_features          facebook_popularity_quotient, live_music_ratin...\n",
       "num_of_clusters_if_used                                                    5\n",
       "accuracy                                                                None\n",
       "f1_score                                                                None\n",
       "Name: 10, dtype: object"
      ]
     },
     "execution_count": 35,
     "metadata": {},
     "output_type": "execute_result"
    }
   ],
   "source": [
    "trainer.data = data\n",
    "trainer.perform_operation_regression(exclude_models=[ModelAndParamRegression.SVR_Regression,ModelAndParamRegression.DecisionTree_Regressor,ModelAndParamRegression.RandomForest_Regressor,ModelAndParamRegression.GradientBoosting_Regressor,ModelAndParamRegression.KNeighbors_Regressor],permutate_n_less_column=0)\n",
    "trainer.performance_df.loc[trainer.performance_df['score'].idxmax()]"
   ]
  },
  {
   "cell_type": "code",
   "execution_count": 37,
   "metadata": {},
   "outputs": [
    {
     "name": "stdout",
     "output_type": "stream",
     "text": [
      "Executing RandomForestFeaturesSelection function to get the best features that are used in training the model.\n",
      "Executing DecisionTreeClassifierFeaturesSelection function to get the best features that are used in training the model.\n",
      "Executing LassoFeaturesSelection function to get the best features that are used in training the model.\n",
      "Total columns :29\n",
      "Selected number of columns: 23\n",
      "Columns to use: facebook_popularity_quotient, live_music_rating, endorsed_by, value_for_money, order_wait_time, comfortablility, resturant_tier, privacy, fire_audit, overall_restaurant_rating, service, restaurant_zomato_rating, hygiene_rating, lively, liquor_license_obtained, restaurant_city_tier, dedicated_parking, cuisine, city, instagram_popularity_quotient, ambience, staff_responsivness, annual_turnover\n",
      "Grid tuning in progress for KMeans...\n",
      "Grid tuning in progress for Agglomerative Clustering...\n",
      "Mean Shift clustering does not require hyperparameter tuning.\n",
      "DBSCAN clustering does not require hyperparameter tuning.\n",
      "Birch clustering does not require hyperparameter tuning.\n",
      "Affinity Propagation clustering does not require hyperparameter tuning.\n",
      "Grid tuning in progress for Mini-Batch KMeans...\n",
      "Mean score for kmeans is: 0.32223448928503123\n",
      "Mean score for agglomerative is: 0.2538744510692173\n",
      "Mean score for mean_shift is: 0.7042919038609283\n",
      "Algorithm dbscan produced an invalid number of clusters: 1\n",
      "Mean score for birch is: 0.626803230508143\n",
      "Mean score for affinity_propagation is: 0.08831066258061036\n",
      "Mean score for mini_batch_kmeans is: 0.31791407900422897\n",
      "Best algorithm: mean_shift with a score of: 0.7042919038609283\n",
      "Mean score of all clusters is: 0.6459616662491872\n",
      "Total columns being used after all data transformations: 61\n"
     ]
    }
   ],
   "source": [
    "data = ModelTrainingData(pre_processed_df, st.QUANTILE_TRANSFORMER, .95,use_pca=True,use_polynomials=True,use_feature_selection=True,create_clustering_feature_and_no_of_clusters=(True,5))"
   ]
  },
  {
   "cell_type": "code",
   "execution_count": 38,
   "metadata": {},
   "outputs": [
    {
     "name": "stdout",
     "output_type": "stream",
     "text": [
      "Total Permutations: 1\n",
      "Total Permutations: 1\n",
      "Total Permutations: 1\n",
      "Total Permutations: 1\n"
     ]
    },
    {
     "data": {
      "text/plain": [
       "model_name                                                  Ridge_Regression\n",
       "score                                                               0.240189\n",
       "RMSE                                                         11199503.206647\n",
       "total_columns                                                             60\n",
       "scaler_type                                              QuantileTransformer\n",
       "selected_features          facebook_popularity_quotient, live_music_ratin...\n",
       "num_of_clusters_if_used                                                    5\n",
       "accuracy                                                                None\n",
       "f1_score                                                                None\n",
       "Name: 13, dtype: object"
      ]
     },
     "execution_count": 38,
     "metadata": {},
     "output_type": "execute_result"
    }
   ],
   "source": [
    "trainer.data = data\n",
    "trainer.perform_operation_regression(exclude_models=[ModelAndParamRegression.SVR_Regression,ModelAndParamRegression.DecisionTree_Regressor,ModelAndParamRegression.RandomForest_Regressor,ModelAndParamRegression.GradientBoosting_Regressor,ModelAndParamRegression.KNeighbors_Regressor],permutate_n_less_column=0)\n",
    "trainer.performance_df.loc[trainer.performance_df['score'].idxmax()]"
   ]
  },
  {
   "cell_type": "code",
   "execution_count": 39,
   "metadata": {},
   "outputs": [
    {
     "data": {
      "text/html": [
       "<div>\n",
       "<style scoped>\n",
       "    .dataframe tbody tr th:only-of-type {\n",
       "        vertical-align: middle;\n",
       "    }\n",
       "\n",
       "    .dataframe tbody tr th {\n",
       "        vertical-align: top;\n",
       "    }\n",
       "\n",
       "    .dataframe thead th {\n",
       "        text-align: right;\n",
       "    }\n",
       "</style>\n",
       "<table border=\"1\" class=\"dataframe\">\n",
       "  <thead>\n",
       "    <tr style=\"text-align: right;\">\n",
       "      <th></th>\n",
       "      <th>model_name</th>\n",
       "      <th>score</th>\n",
       "      <th>RMSE</th>\n",
       "      <th>total_columns</th>\n",
       "      <th>scaler_type</th>\n",
       "      <th>selected_features</th>\n",
       "      <th>num_of_clusters_if_used</th>\n",
       "      <th>accuracy</th>\n",
       "      <th>f1_score</th>\n",
       "    </tr>\n",
       "  </thead>\n",
       "  <tbody>\n",
       "    <tr>\n",
       "      <th>0</th>\n",
       "      <td>Linear_Regression</td>\n",
       "      <td>0.234672</td>\n",
       "      <td>1.124009e+07</td>\n",
       "      <td>29</td>\n",
       "      <td>QuantileTransformer</td>\n",
       "      <td>cuisine, city, restaurant_location, facebook_p...</td>\n",
       "      <td>5</td>\n",
       "      <td>None</td>\n",
       "      <td>None</td>\n",
       "    </tr>\n",
       "    <tr>\n",
       "      <th>1</th>\n",
       "      <td>Ridge_Regression</td>\n",
       "      <td>0.235057</td>\n",
       "      <td>1.123726e+07</td>\n",
       "      <td>29</td>\n",
       "      <td>QuantileTransformer</td>\n",
       "      <td>cuisine, city, restaurant_location, facebook_p...</td>\n",
       "      <td>5</td>\n",
       "      <td>None</td>\n",
       "      <td>None</td>\n",
       "    </tr>\n",
       "    <tr>\n",
       "      <th>2</th>\n",
       "      <td>Lasso_Regression</td>\n",
       "      <td>0.234689</td>\n",
       "      <td>1.123996e+07</td>\n",
       "      <td>29</td>\n",
       "      <td>QuantileTransformer</td>\n",
       "      <td>cuisine, city, restaurant_location, facebook_p...</td>\n",
       "      <td>5</td>\n",
       "      <td>None</td>\n",
       "      <td>None</td>\n",
       "    </tr>\n",
       "    <tr>\n",
       "      <th>3</th>\n",
       "      <td>ElasticNet_Regression</td>\n",
       "      <td>0.210525</td>\n",
       "      <td>1.141603e+07</td>\n",
       "      <td>29</td>\n",
       "      <td>QuantileTransformer</td>\n",
       "      <td>cuisine, city, restaurant_location, facebook_p...</td>\n",
       "      <td>5</td>\n",
       "      <td>None</td>\n",
       "      <td>None</td>\n",
       "    </tr>\n",
       "    <tr>\n",
       "      <th>4</th>\n",
       "      <td>Linear_Regression</td>\n",
       "      <td>0.231358</td>\n",
       "      <td>1.126440e+07</td>\n",
       "      <td>23</td>\n",
       "      <td>QuantileTransformer</td>\n",
       "      <td>facebook_popularity_quotient, live_music_ratin...</td>\n",
       "      <td>5</td>\n",
       "      <td>None</td>\n",
       "      <td>None</td>\n",
       "    </tr>\n",
       "    <tr>\n",
       "      <th>5</th>\n",
       "      <td>Ridge_Regression</td>\n",
       "      <td>0.231266</td>\n",
       "      <td>1.126507e+07</td>\n",
       "      <td>23</td>\n",
       "      <td>QuantileTransformer</td>\n",
       "      <td>facebook_popularity_quotient, live_music_ratin...</td>\n",
       "      <td>5</td>\n",
       "      <td>None</td>\n",
       "      <td>None</td>\n",
       "    </tr>\n",
       "    <tr>\n",
       "      <th>6</th>\n",
       "      <td>Lasso_Regression</td>\n",
       "      <td>0.231352</td>\n",
       "      <td>1.126444e+07</td>\n",
       "      <td>23</td>\n",
       "      <td>QuantileTransformer</td>\n",
       "      <td>facebook_popularity_quotient, live_music_ratin...</td>\n",
       "      <td>5</td>\n",
       "      <td>None</td>\n",
       "      <td>None</td>\n",
       "    </tr>\n",
       "    <tr>\n",
       "      <th>7</th>\n",
       "      <td>ElasticNet_Regression</td>\n",
       "      <td>0.207424</td>\n",
       "      <td>1.143843e+07</td>\n",
       "      <td>23</td>\n",
       "      <td>QuantileTransformer</td>\n",
       "      <td>facebook_popularity_quotient, live_music_ratin...</td>\n",
       "      <td>5</td>\n",
       "      <td>None</td>\n",
       "      <td>None</td>\n",
       "    </tr>\n",
       "    <tr>\n",
       "      <th>8</th>\n",
       "      <td>Linear_Regression</td>\n",
       "      <td>0.239890</td>\n",
       "      <td>1.120170e+07</td>\n",
       "      <td>22</td>\n",
       "      <td>QuantileTransformer</td>\n",
       "      <td>facebook_popularity_quotient, live_music_ratin...</td>\n",
       "      <td>5</td>\n",
       "      <td>None</td>\n",
       "      <td>None</td>\n",
       "    </tr>\n",
       "    <tr>\n",
       "      <th>9</th>\n",
       "      <td>Ridge_Regression</td>\n",
       "      <td>0.239882</td>\n",
       "      <td>1.120176e+07</td>\n",
       "      <td>22</td>\n",
       "      <td>QuantileTransformer</td>\n",
       "      <td>facebook_popularity_quotient, live_music_ratin...</td>\n",
       "      <td>5</td>\n",
       "      <td>None</td>\n",
       "      <td>None</td>\n",
       "    </tr>\n",
       "    <tr>\n",
       "      <th>10</th>\n",
       "      <td>Lasso_Regression</td>\n",
       "      <td>0.239892</td>\n",
       "      <td>1.120169e+07</td>\n",
       "      <td>22</td>\n",
       "      <td>QuantileTransformer</td>\n",
       "      <td>facebook_popularity_quotient, live_music_ratin...</td>\n",
       "      <td>5</td>\n",
       "      <td>None</td>\n",
       "      <td>None</td>\n",
       "    </tr>\n",
       "    <tr>\n",
       "      <th>11</th>\n",
       "      <td>ElasticNet_Regression</td>\n",
       "      <td>0.239438</td>\n",
       "      <td>1.120503e+07</td>\n",
       "      <td>22</td>\n",
       "      <td>QuantileTransformer</td>\n",
       "      <td>facebook_popularity_quotient, live_music_ratin...</td>\n",
       "      <td>5</td>\n",
       "      <td>None</td>\n",
       "      <td>None</td>\n",
       "    </tr>\n",
       "    <tr>\n",
       "      <th>12</th>\n",
       "      <td>Linear_Regression</td>\n",
       "      <td>0.231336</td>\n",
       "      <td>1.126456e+07</td>\n",
       "      <td>60</td>\n",
       "      <td>QuantileTransformer</td>\n",
       "      <td>facebook_popularity_quotient, live_music_ratin...</td>\n",
       "      <td>5</td>\n",
       "      <td>None</td>\n",
       "      <td>None</td>\n",
       "    </tr>\n",
       "    <tr>\n",
       "      <th>13</th>\n",
       "      <td>Ridge_Regression</td>\n",
       "      <td>0.240189</td>\n",
       "      <td>1.119950e+07</td>\n",
       "      <td>60</td>\n",
       "      <td>QuantileTransformer</td>\n",
       "      <td>facebook_popularity_quotient, live_music_ratin...</td>\n",
       "      <td>5</td>\n",
       "      <td>None</td>\n",
       "      <td>None</td>\n",
       "    </tr>\n",
       "    <tr>\n",
       "      <th>14</th>\n",
       "      <td>Lasso_Regression</td>\n",
       "      <td>0.231381</td>\n",
       "      <td>1.126423e+07</td>\n",
       "      <td>60</td>\n",
       "      <td>QuantileTransformer</td>\n",
       "      <td>facebook_popularity_quotient, live_music_ratin...</td>\n",
       "      <td>5</td>\n",
       "      <td>None</td>\n",
       "      <td>None</td>\n",
       "    </tr>\n",
       "    <tr>\n",
       "      <th>15</th>\n",
       "      <td>ElasticNet_Regression</td>\n",
       "      <td>0.237412</td>\n",
       "      <td>1.121995e+07</td>\n",
       "      <td>60</td>\n",
       "      <td>QuantileTransformer</td>\n",
       "      <td>facebook_popularity_quotient, live_music_ratin...</td>\n",
       "      <td>5</td>\n",
       "      <td>None</td>\n",
       "      <td>None</td>\n",
       "    </tr>\n",
       "  </tbody>\n",
       "</table>\n",
       "</div>"
      ],
      "text/plain": [
       "               model_name     score          RMSE total_columns  \\\n",
       "0       Linear_Regression  0.234672  1.124009e+07            29   \n",
       "1        Ridge_Regression  0.235057  1.123726e+07            29   \n",
       "2        Lasso_Regression  0.234689  1.123996e+07            29   \n",
       "3   ElasticNet_Regression  0.210525  1.141603e+07            29   \n",
       "4       Linear_Regression  0.231358  1.126440e+07            23   \n",
       "5        Ridge_Regression  0.231266  1.126507e+07            23   \n",
       "6        Lasso_Regression  0.231352  1.126444e+07            23   \n",
       "7   ElasticNet_Regression  0.207424  1.143843e+07            23   \n",
       "8       Linear_Regression  0.239890  1.120170e+07            22   \n",
       "9        Ridge_Regression  0.239882  1.120176e+07            22   \n",
       "10       Lasso_Regression  0.239892  1.120169e+07            22   \n",
       "11  ElasticNet_Regression  0.239438  1.120503e+07            22   \n",
       "12      Linear_Regression  0.231336  1.126456e+07            60   \n",
       "13       Ridge_Regression  0.240189  1.119950e+07            60   \n",
       "14       Lasso_Regression  0.231381  1.126423e+07            60   \n",
       "15  ElasticNet_Regression  0.237412  1.121995e+07            60   \n",
       "\n",
       "            scaler_type                                  selected_features  \\\n",
       "0   QuantileTransformer  cuisine, city, restaurant_location, facebook_p...   \n",
       "1   QuantileTransformer  cuisine, city, restaurant_location, facebook_p...   \n",
       "2   QuantileTransformer  cuisine, city, restaurant_location, facebook_p...   \n",
       "3   QuantileTransformer  cuisine, city, restaurant_location, facebook_p...   \n",
       "4   QuantileTransformer  facebook_popularity_quotient, live_music_ratin...   \n",
       "5   QuantileTransformer  facebook_popularity_quotient, live_music_ratin...   \n",
       "6   QuantileTransformer  facebook_popularity_quotient, live_music_ratin...   \n",
       "7   QuantileTransformer  facebook_popularity_quotient, live_music_ratin...   \n",
       "8   QuantileTransformer  facebook_popularity_quotient, live_music_ratin...   \n",
       "9   QuantileTransformer  facebook_popularity_quotient, live_music_ratin...   \n",
       "10  QuantileTransformer  facebook_popularity_quotient, live_music_ratin...   \n",
       "11  QuantileTransformer  facebook_popularity_quotient, live_music_ratin...   \n",
       "12  QuantileTransformer  facebook_popularity_quotient, live_music_ratin...   \n",
       "13  QuantileTransformer  facebook_popularity_quotient, live_music_ratin...   \n",
       "14  QuantileTransformer  facebook_popularity_quotient, live_music_ratin...   \n",
       "15  QuantileTransformer  facebook_popularity_quotient, live_music_ratin...   \n",
       "\n",
       "   num_of_clusters_if_used accuracy f1_score  \n",
       "0                        5     None     None  \n",
       "1                        5     None     None  \n",
       "2                        5     None     None  \n",
       "3                        5     None     None  \n",
       "4                        5     None     None  \n",
       "5                        5     None     None  \n",
       "6                        5     None     None  \n",
       "7                        5     None     None  \n",
       "8                        5     None     None  \n",
       "9                        5     None     None  \n",
       "10                       5     None     None  \n",
       "11                       5     None     None  \n",
       "12                       5     None     None  \n",
       "13                       5     None     None  \n",
       "14                       5     None     None  \n",
       "15                       5     None     None  "
      ]
     },
     "execution_count": 39,
     "metadata": {},
     "output_type": "execute_result"
    }
   ],
   "source": [
    "trainer.performance_df"
   ]
  },
  {
   "cell_type": "code",
   "execution_count": 41,
   "metadata": {},
   "outputs": [],
   "source": [
    "from auto_ml_kinder.classes.NeuralNetwork_BayesianOptimization_Params import NeuralNetwork_BayesianOptimization_Params"
   ]
  },
  {
   "cell_type": "code",
   "execution_count": 42,
   "metadata": {},
   "outputs": [
    {
     "name": "stdout",
     "output_type": "stream",
     "text": [
      "|   iter    |  target   | activa... | batch_... |  dropout  | dropou... |  epochs   | hidden... | learni... |  neurons  | normal... | optimizer |\n",
      "-------------------------------------------------------------------------------------------------------------------------------------------------\n",
      "Neurons: 364||Total Columns:61||Normalization:False||Activation:selu||Total hidden layers:3||Dropout used:True||Dropout rate if used:0.6077049890092492||Optimizer:adadelta||Epochs:63||Batch_size:32\n",
      "\n",
      "| \u001b[0m1        \u001b[0m | \u001b[0m-9.678e+1\u001b[0m | \u001b[0m1.837    \u001b[0m | \u001b[0m32.0     \u001b[0m | \u001b[0m1.0      \u001b[0m | \u001b[0m0.6077   \u001b[0m | \u001b[0m62.95    \u001b[0m | \u001b[0m3.447    \u001b[0m | \u001b[0m0.003225 \u001b[0m | \u001b[0m363.6    \u001b[0m | \u001b[0m0.2387   \u001b[0m | \u001b[0m2.026    \u001b[0m |\n",
      "Neurons: 286||Total Columns:61||Normalization:False||Activation:elu||Total hidden layers:4||Dropout used:True||Dropout rate if used:0.567840095298652||Optimizer:nadam||Epochs:66||Batch_size:32\n",
      "\n",
      "| \u001b[95m2        \u001b[0m | \u001b[95m-1.373e+1\u001b[0m | \u001b[95m2.972    \u001b[0m | \u001b[95m32.0     \u001b[0m | \u001b[95m1.0      \u001b[0m | \u001b[95m0.5678   \u001b[0m | \u001b[95m66.21    \u001b[0m | \u001b[95m3.823    \u001b[0m | \u001b[95m0.04716  \u001b[0m | \u001b[95m286.3    \u001b[0m | \u001b[95m0.07396  \u001b[0m | \u001b[95m5.405    \u001b[0m |\n",
      "Neurons: 263||Total Columns:61||Normalization:False||Activation:selu||Total hidden layers:5||Dropout used:True||Dropout rate if used:0.6963819405321641||Optimizer:rmsprop||Epochs:66||Batch_size:32\n",
      "\n",
      "| \u001b[0m3        \u001b[0m | \u001b[0m-1.52e+14\u001b[0m | \u001b[0m2.382    \u001b[0m | \u001b[0m32.0     \u001b[0m | \u001b[0m1.0      \u001b[0m | \u001b[0m0.6964   \u001b[0m | \u001b[0m65.77    \u001b[0m | \u001b[0m5.441    \u001b[0m | \u001b[0m0.04271  \u001b[0m | \u001b[0m263.0    \u001b[0m | \u001b[0m0.4541   \u001b[0m | \u001b[0m0.632    \u001b[0m |\n",
      "Neurons: 512||Total Columns:61||Normalization:True||Activation:relu||Total hidden layers:6||Dropout used:True||Dropout rate if used:0.3||Optimizer:ftrl||Epochs:70||Batch_size:32\n",
      "\n",
      "| \u001b[0m4        \u001b[0m | \u001b[0m-9.678e+1\u001b[0m | \u001b[0m0.0      \u001b[0m | \u001b[0m32.0     \u001b[0m | \u001b[0m1.0      \u001b[0m | \u001b[0m0.3      \u001b[0m | \u001b[0m70.0     \u001b[0m | \u001b[0m6.0      \u001b[0m | \u001b[0m0.1      \u001b[0m | \u001b[0m512.0    \u001b[0m | \u001b[0m1.0      \u001b[0m | \u001b[0m6.0      \u001b[0m |\n",
      "Neurons: 286||Total Columns:61||Normalization:False||Activation:elu||Total hidden layers:5||Dropout used:True||Dropout rate if used:0.4584786651377804||Optimizer:nadam||Epochs:66||Batch_size:32\n",
      "\n",
      "| \u001b[95m5        \u001b[0m | \u001b[95m-1.371e+1\u001b[0m | \u001b[95m2.716    \u001b[0m | \u001b[95m32.0     \u001b[0m | \u001b[95m1.0      \u001b[0m | \u001b[95m0.4585   \u001b[0m | \u001b[95m65.72    \u001b[0m | \u001b[95m4.76     \u001b[0m | \u001b[95m0.06302  \u001b[0m | \u001b[95m286.4    \u001b[0m | \u001b[95m0.4738   \u001b[0m | \u001b[95m4.83     \u001b[0m |\n",
      "Neurons: 273||Total Columns:61||Normalization:False||Activation:relu||Total hidden layers:3||Dropout used:True||Dropout rate if used:0.7||Optimizer:ftrl||Epochs:60||Batch_size:32\n",
      "\n",
      "| \u001b[0m6        \u001b[0m | \u001b[0m-9.503e+1\u001b[0m | \u001b[0m0.0      \u001b[0m | \u001b[0m32.0     \u001b[0m | \u001b[0m1.0      \u001b[0m | \u001b[0m0.7      \u001b[0m | \u001b[0m60.0     \u001b[0m | \u001b[0m3.0      \u001b[0m | \u001b[0m0.001    \u001b[0m | \u001b[0m272.8    \u001b[0m | \u001b[0m0.0      \u001b[0m | \u001b[0m6.0      \u001b[0m |\n",
      "=================================================================================================================================================\n"
     ]
    }
   ],
   "source": [
    "trainer.perform_neural_network_regression(totalExperiments=6,\n",
    "                                          params=NeuralNetwork_BayesianOptimization_Params(\n",
    "                                              neurons_min_max=(256,512)\n",
    "                                              ,batch_size_min_max=(32,32)\n",
    "                                              ,dropout_rate_min_max=(.3,.7)\n",
    "                                              ,epochs_min_max=(60,70)\n",
    "                                              ,hidden_layers_min_max=(3,6)  \n",
    "                                              ,learning_rate_min_max=(.001,.1)\n",
    "                                              ,normalization_min_max=(0,1)\n",
    "                                              ,dropout_min_max=(1,1)\n",
    "                                              ,activation_min_max=(0,3)\n",
    "                                              ))"
   ]
  },
  {
   "cell_type": "code",
   "execution_count": 43,
   "metadata": {},
   "outputs": [
    {
     "ename": "AttributeError",
     "evalue": "'ModelTrainer' object has no attribute 'neural_network_best_model'",
     "output_type": "error",
     "traceback": [
      "\u001b[1;31m---------------------------------------------------------------------------\u001b[0m",
      "\u001b[1;31mAttributeError\u001b[0m                            Traceback (most recent call last)",
      "Cell \u001b[1;32mIn[43], line 1\u001b[0m\n\u001b[1;32m----> 1\u001b[0m \u001b[43mtrainer\u001b[49m\u001b[38;5;241;43m.\u001b[39;49m\u001b[43mneural_network_best_model\u001b[49m(epochs\u001b[38;5;241m=\u001b[39m\u001b[38;5;241m500\u001b[39m)\n",
      "\u001b[1;31mAttributeError\u001b[0m: 'ModelTrainer' object has no attribute 'neural_network_best_model'"
     ]
    }
   ],
   "source": [
    "trainer.neural_network_best_model(epochs=500)"
   ]
  },
  {
   "cell_type": "code",
   "execution_count": null,
   "metadata": {},
   "outputs": [],
   "source": [
    "trainer.performance_df"
   ]
  },
  {
   "cell_type": "code",
   "execution_count": null,
   "metadata": {},
   "outputs": [],
   "source": [
    "test = pd.read_csv('../data/Test_dataset.csv')"
   ]
  },
  {
   "cell_type": "code",
   "execution_count": null,
   "metadata": {},
   "outputs": [],
   "source": [
    "test.columns = test.columns.str.lower().str.replace(' ', '_')"
   ]
  },
  {
   "cell_type": "code",
   "execution_count": null,
   "metadata": {},
   "outputs": [],
   "source": [
    "new_column_name = label_encode[2].column_name\n",
    "test = test.rename(columns={'endoresed_by': new_column_name})"
   ]
  },
  {
   "cell_type": "code",
   "execution_count": null,
   "metadata": {},
   "outputs": [],
   "source": [
    "label_encode[0] = pp.PreLabelEncoderConfig(\n",
    "    column_name='city',\n",
    "    label_encoding=list({pp.LabelEncodingDict(key, idx + 1) for idx, key in enumerate(test.city.value_counts().keys())}))"
   ]
  },
  {
   "cell_type": "code",
   "execution_count": null,
   "metadata": {},
   "outputs": [],
   "source": [
    "model_config_test = pp.PreProcessingConfig(\n",
    "    encoding_dummies=[],\n",
    "    exclude_columns=['opening_day_of_restaurant','registration_number'],\n",
    "    label_encode=label_encode,\n",
    "    numeric_cols_data_changer=numeric_col_changer,\n",
    "    target_column=''\n",
    ")"
   ]
  },
  {
   "cell_type": "code",
   "execution_count": null,
   "metadata": {},
   "outputs": [],
   "source": [
    "test_processed = pp.process_test(test,model_config)"
   ]
  },
  {
   "cell_type": "code",
   "execution_count": null,
   "metadata": {},
   "outputs": [],
   "source": [
    "trainer = mth.ModelTrainer(data=data)\n",
    "trainer.perform_operation_regression(exclude_models=[ModelAndParamRegression.SVR_Regression,ModelAndParamRegression.DecisionTree_Regressor,ModelAndParamRegression.RandomForest_Regressor,ModelAndParamRegression.GradientBoosting_Regressor,ModelAndParamRegression.KNeighbors_Regressor],permutate_n_less_column=0)\n",
    "trainer.performance_df.loc[trainer.performance_df['score'].idxmax()]"
   ]
  },
  {
   "cell_type": "code",
   "execution_count": null,
   "metadata": {},
   "outputs": [],
   "source": [
    "trainer.performance_df"
   ]
  },
  {
   "cell_type": "code",
   "execution_count": null,
   "metadata": {},
   "outputs": [],
   "source": [
    "trainer.models"
   ]
  },
  {
   "cell_type": "code",
   "execution_count": null,
   "metadata": {},
   "outputs": [],
   "source": [
    "predictions = trainer.predict_test_data(test_processed,trainer.models[1].model)"
   ]
  },
  {
   "cell_type": "code",
   "execution_count": null,
   "metadata": {},
   "outputs": [],
   "source": [
    "test['predictions'] = predictions"
   ]
  },
  {
   "cell_type": "code",
   "execution_count": null,
   "metadata": {},
   "outputs": [],
   "source": [
    "test"
   ]
  }
 ],
 "metadata": {
  "kernelspec": {
   "display_name": "Python 3",
   "language": "python",
   "name": "python3"
  },
  "language_info": {
   "codemirror_mode": {
    "name": "ipython",
    "version": 3
   },
   "file_extension": ".py",
   "mimetype": "text/x-python",
   "name": "python",
   "nbconvert_exporter": "python",
   "pygments_lexer": "ipython3",
   "version": "3.10.11"
  }
 },
 "nbformat": 4,
 "nbformat_minor": 2
}
