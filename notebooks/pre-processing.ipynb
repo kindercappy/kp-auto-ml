{
 "cells": [
  {
   "cell_type": "code",
   "execution_count": 1,
   "metadata": {},
   "outputs": [],
   "source": [
    "%load_ext autoreload\n",
    "%autoreload 2\n"
   ]
  },
  {
   "cell_type": "code",
   "execution_count": 2,
   "metadata": {},
   "outputs": [],
   "source": [
    "import pandas as pd"
   ]
  },
  {
   "cell_type": "code",
   "execution_count": 3,
   "metadata": {},
   "outputs": [
    {
     "data": {
      "text/html": [
       "<div>\n",
       "<style scoped>\n",
       "    .dataframe tbody tr th:only-of-type {\n",
       "        vertical-align: middle;\n",
       "    }\n",
       "\n",
       "    .dataframe tbody tr th {\n",
       "        vertical-align: top;\n",
       "    }\n",
       "\n",
       "    .dataframe thead th {\n",
       "        text-align: right;\n",
       "    }\n",
       "</style>\n",
       "<table border=\"1\" class=\"dataframe\">\n",
       "  <thead>\n",
       "    <tr style=\"text-align: right;\">\n",
       "      <th></th>\n",
       "      <th>Registration Number</th>\n",
       "      <th>Annual Turnover</th>\n",
       "      <th>Cuisine</th>\n",
       "      <th>City</th>\n",
       "      <th>Restaurant Location</th>\n",
       "      <th>Opening Day of Restaurant</th>\n",
       "      <th>Facebook Popularity Quotient</th>\n",
       "      <th>Endorsed By</th>\n",
       "      <th>Instagram Popularity Quotient</th>\n",
       "      <th>Fire Audit</th>\n",
       "      <th>...</th>\n",
       "      <th>Overall Restaurant Rating</th>\n",
       "      <th>Live Music Rating</th>\n",
       "      <th>Comedy Gigs Rating</th>\n",
       "      <th>Value Deals Rating</th>\n",
       "      <th>Live Sports Rating</th>\n",
       "      <th>Ambience</th>\n",
       "      <th>Lively</th>\n",
       "      <th>Service</th>\n",
       "      <th>Comfortablility</th>\n",
       "      <th>Privacy</th>\n",
       "    </tr>\n",
       "  </thead>\n",
       "  <tbody>\n",
       "    <tr>\n",
       "      <th>0</th>\n",
       "      <td>60001</td>\n",
       "      <td>42000000</td>\n",
       "      <td>indian,irish</td>\n",
       "      <td>Bangalore</td>\n",
       "      <td>Near Business Hub</td>\n",
       "      <td>14/02/09</td>\n",
       "      <td>84.3</td>\n",
       "      <td>Not Specific</td>\n",
       "      <td>95.8</td>\n",
       "      <td>1</td>\n",
       "      <td>...</td>\n",
       "      <td>10.0</td>\n",
       "      <td>4.0</td>\n",
       "      <td>NaN</td>\n",
       "      <td>NaN</td>\n",
       "      <td>NaN</td>\n",
       "      <td>8.0</td>\n",
       "      <td>8</td>\n",
       "      <td>6</td>\n",
       "      <td>6</td>\n",
       "      <td>6</td>\n",
       "    </tr>\n",
       "  </tbody>\n",
       "</table>\n",
       "<p>1 rows × 34 columns</p>\n",
       "</div>"
      ],
      "text/plain": [
       "   Registration Number  Annual Turnover       Cuisine       City  \\\n",
       "0                60001         42000000  indian,irish  Bangalore   \n",
       "\n",
       "  Restaurant Location Opening Day of Restaurant  Facebook Popularity Quotient  \\\n",
       "0   Near Business Hub                  14/02/09                          84.3   \n",
       "\n",
       "    Endorsed By  Instagram Popularity Quotient  Fire Audit  ...  \\\n",
       "0  Not Specific                           95.8           1  ...   \n",
       "\n",
       "   Overall Restaurant Rating  Live Music Rating  Comedy Gigs Rating  \\\n",
       "0                       10.0                4.0                 NaN   \n",
       "\n",
       "   Value Deals Rating  Live Sports Rating Ambience Lively  Service  \\\n",
       "0                 NaN                 NaN      8.0      8        6   \n",
       "\n",
       "   Comfortablility  Privacy  \n",
       "0                6        6  \n",
       "\n",
       "[1 rows x 34 columns]"
      ]
     },
     "execution_count": 3,
     "metadata": {},
     "output_type": "execute_result"
    }
   ],
   "source": [
    "train = pd.read_csv('../data/Train_dataset.csv')\n",
    "train.head(1)"
   ]
  },
  {
   "cell_type": "code",
   "execution_count": 4,
   "metadata": {},
   "outputs": [],
   "source": [
    "from kp_auto_ml import pre_processing as pp"
   ]
  },
  {
   "cell_type": "code",
   "execution_count": 5,
   "metadata": {},
   "outputs": [],
   "source": [
    "train.columns = train.columns.str.lower().str.replace(' ', '_')"
   ]
  },
  {
   "cell_type": "code",
   "execution_count": 6,
   "metadata": {},
   "outputs": [
    {
     "data": {
      "text/html": [
       "<div>\n",
       "<style scoped>\n",
       "    .dataframe tbody tr th:only-of-type {\n",
       "        vertical-align: middle;\n",
       "    }\n",
       "\n",
       "    .dataframe tbody tr th {\n",
       "        vertical-align: top;\n",
       "    }\n",
       "\n",
       "    .dataframe thead th {\n",
       "        text-align: right;\n",
       "    }\n",
       "</style>\n",
       "<table border=\"1\" class=\"dataframe\">\n",
       "  <thead>\n",
       "    <tr style=\"text-align: right;\">\n",
       "      <th></th>\n",
       "      <th>registration_number</th>\n",
       "      <th>annual_turnover</th>\n",
       "      <th>cuisine</th>\n",
       "      <th>city</th>\n",
       "      <th>restaurant_location</th>\n",
       "      <th>opening_day_of_restaurant</th>\n",
       "      <th>facebook_popularity_quotient</th>\n",
       "      <th>endorsed_by</th>\n",
       "      <th>instagram_popularity_quotient</th>\n",
       "      <th>fire_audit</th>\n",
       "      <th>...</th>\n",
       "      <th>overall_restaurant_rating</th>\n",
       "      <th>live_music_rating</th>\n",
       "      <th>comedy_gigs_rating</th>\n",
       "      <th>value_deals_rating</th>\n",
       "      <th>live_sports_rating</th>\n",
       "      <th>ambience</th>\n",
       "      <th>lively</th>\n",
       "      <th>service</th>\n",
       "      <th>comfortablility</th>\n",
       "      <th>privacy</th>\n",
       "    </tr>\n",
       "  </thead>\n",
       "  <tbody>\n",
       "    <tr>\n",
       "      <th>0</th>\n",
       "      <td>60001</td>\n",
       "      <td>42000000</td>\n",
       "      <td>indian,irish</td>\n",
       "      <td>Bangalore</td>\n",
       "      <td>Near Business Hub</td>\n",
       "      <td>14/02/09</td>\n",
       "      <td>84.3</td>\n",
       "      <td>Not Specific</td>\n",
       "      <td>95.8</td>\n",
       "      <td>1</td>\n",
       "      <td>...</td>\n",
       "      <td>10.0</td>\n",
       "      <td>4.0</td>\n",
       "      <td>NaN</td>\n",
       "      <td>NaN</td>\n",
       "      <td>NaN</td>\n",
       "      <td>8.0</td>\n",
       "      <td>8</td>\n",
       "      <td>6</td>\n",
       "      <td>6</td>\n",
       "      <td>6</td>\n",
       "    </tr>\n",
       "  </tbody>\n",
       "</table>\n",
       "<p>1 rows × 34 columns</p>\n",
       "</div>"
      ],
      "text/plain": [
       "   registration_number  annual_turnover       cuisine       city  \\\n",
       "0                60001         42000000  indian,irish  Bangalore   \n",
       "\n",
       "  restaurant_location opening_day_of_restaurant  facebook_popularity_quotient  \\\n",
       "0   Near Business Hub                  14/02/09                          84.3   \n",
       "\n",
       "    endorsed_by  instagram_popularity_quotient  fire_audit  ...  \\\n",
       "0  Not Specific                           95.8           1  ...   \n",
       "\n",
       "   overall_restaurant_rating  live_music_rating  comedy_gigs_rating  \\\n",
       "0                       10.0                4.0                 NaN   \n",
       "\n",
       "   value_deals_rating  live_sports_rating ambience lively  service  \\\n",
       "0                 NaN                 NaN      8.0      8        6   \n",
       "\n",
       "   comfortablility  privacy  \n",
       "0                6        6  \n",
       "\n",
       "[1 rows x 34 columns]"
      ]
     },
     "execution_count": 6,
     "metadata": {},
     "output_type": "execute_result"
    }
   ],
   "source": [
    "train.head(1)"
   ]
  },
  {
   "cell_type": "code",
   "execution_count": 7,
   "metadata": {},
   "outputs": [],
   "source": [
    "label_encode:list[pp.PreLabelEncoderConfig] = []\n",
    "label_encode.append(pp.PreLabelEncoderConfig(\n",
    "    column_name='city',\n",
    "    label_encoding=list({pp.LabelEncodingDict(key, idx + 1) for idx, key in enumerate(train.city.value_counts().keys())}))\n",
    "    )\n",
    "label_encode.append(pp.PreLabelEncoderConfig(\n",
    "    column_name='restaurant_location',\n",
    "    label_encoding=list({pp.LabelEncodingDict(key, idx + 1) for idx, key in enumerate(train.restaurant_location.value_counts().keys())}))\n",
    "    )\n",
    "label_encode.append(pp.PreLabelEncoderConfig(\n",
    "    column_name='endorsed_by',\n",
    "    label_encoding=list({pp.LabelEncodingDict(key, idx + 1) for idx, key in enumerate(train.endorsed_by.value_counts().keys())}))\n",
    "    )\n",
    "label_encode.append(pp.PreLabelEncoderConfig(\n",
    "    column_name='restaurant_theme',\n",
    "    label_encoding=list({pp.LabelEncodingDict(key, idx + 1) for idx, key in enumerate(train.restaurant_theme.value_counts().keys())}))\n",
    "    )\n",
    "label_encode.append(pp.PreLabelEncoderConfig(\n",
    "    column_name='restaurant_type',\n",
    "    label_encoding=list({pp.LabelEncodingDict(key, idx + 1) for idx, key in enumerate(train.restaurant_type.value_counts().keys())}))\n",
    "    )\n",
    "label_encode.append(pp.PreLabelEncoderConfig(\n",
    "    column_name='cuisine',\n",
    "    label_encoding=list({pp.LabelEncodingDict(key, idx + 1) for idx, key in enumerate(train.cuisine.value_counts().keys())}))\n",
    "    )\n",
    "\n",
    "numeric_col_changer:list[pp.PreNumericColDataChangeConfig] = []\n",
    "numeric_col_changer.append(pp.PreNumericColDataChangeConfig(col_name='facebook_popularity_quotient',data_type=int))\n",
    "numeric_col_changer.append(pp.PreNumericColDataChangeConfig(col_name='instagram_popularity_quotient',data_type=int))\n",
    "numeric_col_changer.append(pp.PreNumericColDataChangeConfig(col_name='overall_restaurant_rating',data_type=int))\n",
    "numeric_col_changer.append(pp.PreNumericColDataChangeConfig(col_name='live_music_rating',data_type=int))\n",
    "numeric_col_changer.append(pp.PreNumericColDataChangeConfig(col_name='ambience',data_type=int))\n",
    "numeric_col_changer.append(pp.PreNumericColDataChangeConfig(col_name='resturant_tier',data_type=int))\n",
    "\n",
    "model_config = pp.PreProcessingConfig(\n",
    "    encoding_dummies=[],\n",
    "    exclude_columns=['opening_day_of_restaurant','registration_number'],\n",
    "    label_encode=label_encode,\n",
    "    numeric_cols_data_changer=numeric_col_changer,\n",
    "    target_column='annual_turnover'\n",
    ")"
   ]
  },
  {
   "cell_type": "code",
   "execution_count": 8,
   "metadata": {},
   "outputs": [
    {
     "name": "stdout",
     "output_type": "stream",
     "text": [
      "Dropping columns whose values are nullable greater than 0.7\n",
      "Removing unusable values like \" \" and \"?\"\n",
      "Filling NA values with median and mode for numeria and non-numeric columns.\n",
      "Performing IQR based outliers cleaning on target. annual_turnover\n",
      "Changing datatype of numeric columns.\n",
      "Performing label encoding on columns provided.\n",
      "Encoding using dummies.\n"
     ]
    }
   ],
   "source": [
    "pre_processed_df = pp.process(train,model_config)"
   ]
  },
  {
   "cell_type": "code",
   "execution_count": 107,
   "metadata": {},
   "outputs": [],
   "source": [
    "from kp_auto_ml import model_training_data_prep as dp\n",
    "from kp_auto_ml import model_training_helper as mth"
   ]
  },
  {
   "cell_type": "code",
   "execution_count": 108,
   "metadata": {},
   "outputs": [],
   "source": [
    "data = dp.ModelTrainingData(pre_processed_df, dp.ScalerType.QUANTILE_TRANSFORMER, .9,use_pca=False,use_polynomials=False)\n",
    "\n",
    "trainer = mth.ModelTrainer(data=data)"
   ]
  },
  {
   "cell_type": "code",
   "execution_count": 109,
   "metadata": {},
   "outputs": [
    {
     "name": "stdout",
     "output_type": "stream",
     "text": [
      "LinearRegression params: {'fit_intercept': [True, False]}\n",
      "Total Permutations: 29\n",
      "Ridge params: {'alpha': [0.1, 0.5, 1.0, 2.0, 5.0, 10.0, 20.0, 50.0, 100.0], 'solver': ['auto', 'svd', 'cholesky', 'lsqr', 'sparse_cg', 'sag', 'saga']}\n",
      "Total Permutations: 29\n"
     ]
    }
   ],
   "source": [
    "trainer.perform_operation()"
   ]
  },
  {
   "cell_type": "code",
   "execution_count": 111,
   "metadata": {},
   "outputs": [
    {
     "data": {
      "text/html": [
       "<div>\n",
       "<style scoped>\n",
       "    .dataframe tbody tr th:only-of-type {\n",
       "        vertical-align: middle;\n",
       "    }\n",
       "\n",
       "    .dataframe tbody tr th {\n",
       "        vertical-align: top;\n",
       "    }\n",
       "\n",
       "    .dataframe thead th {\n",
       "        text-align: right;\n",
       "    }\n",
       "</style>\n",
       "<table border=\"1\" class=\"dataframe\">\n",
       "  <thead>\n",
       "    <tr style=\"text-align: right;\">\n",
       "      <th></th>\n",
       "      <th>model_name</th>\n",
       "      <th>score</th>\n",
       "      <th>RMSE</th>\n",
       "    </tr>\n",
       "  </thead>\n",
       "  <tbody>\n",
       "    <tr>\n",
       "      <th>0</th>\n",
       "      <td>Linear_Regression</td>\n",
       "      <td>0.234119</td>\n",
       "      <td>1.123429e+07</td>\n",
       "    </tr>\n",
       "    <tr>\n",
       "      <th>1</th>\n",
       "      <td>Linear_Regression</td>\n",
       "      <td>0.233196</td>\n",
       "      <td>1.124099e+07</td>\n",
       "    </tr>\n",
       "    <tr>\n",
       "      <th>2</th>\n",
       "      <td>Linear_Regression</td>\n",
       "      <td>0.233214</td>\n",
       "      <td>1.124467e+07</td>\n",
       "    </tr>\n",
       "    <tr>\n",
       "      <th>3</th>\n",
       "      <td>Linear_Regression</td>\n",
       "      <td>0.237274</td>\n",
       "      <td>1.126130e+07</td>\n",
       "    </tr>\n",
       "    <tr>\n",
       "      <th>4</th>\n",
       "      <td>Linear_Regression</td>\n",
       "      <td>0.232500</td>\n",
       "      <td>1.127721e+07</td>\n",
       "    </tr>\n",
       "  </tbody>\n",
       "</table>\n",
       "</div>"
      ],
      "text/plain": [
       "          model_name     score          RMSE\n",
       "0  Linear_Regression  0.234119  1.123429e+07\n",
       "1  Linear_Regression  0.233196  1.124099e+07\n",
       "2  Linear_Regression  0.233214  1.124467e+07\n",
       "3  Linear_Regression  0.237274  1.126130e+07\n",
       "4  Linear_Regression  0.232500  1.127721e+07"
      ]
     },
     "execution_count": 111,
     "metadata": {},
     "output_type": "execute_result"
    }
   ],
   "source": [
    "trainer.performance_df.head()"
   ]
  },
  {
   "cell_type": "code",
   "execution_count": null,
   "metadata": {},
   "outputs": [],
   "source": []
  }
 ],
 "metadata": {
  "kernelspec": {
   "display_name": "Python 3",
   "language": "python",
   "name": "python3"
  },
  "language_info": {
   "codemirror_mode": {
    "name": "ipython",
    "version": 3
   },
   "file_extension": ".py",
   "mimetype": "text/x-python",
   "name": "python",
   "nbconvert_exporter": "python",
   "pygments_lexer": "ipython3",
   "version": "3.10.11"
  }
 },
 "nbformat": 4,
 "nbformat_minor": 2
}
