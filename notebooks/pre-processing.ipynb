{
 "cells": [
  {
   "cell_type": "code",
   "execution_count": 1,
   "metadata": {},
   "outputs": [],
   "source": [
    "%load_ext autoreload\n",
    "%autoreload 2\n"
   ]
  },
  {
   "cell_type": "code",
   "execution_count": 2,
   "metadata": {},
   "outputs": [],
   "source": [
    "import pandas as pd"
   ]
  },
  {
   "cell_type": "code",
   "execution_count": 3,
   "metadata": {},
   "outputs": [
    {
     "data": {
      "text/html": [
       "<div>\n",
       "<style scoped>\n",
       "    .dataframe tbody tr th:only-of-type {\n",
       "        vertical-align: middle;\n",
       "    }\n",
       "\n",
       "    .dataframe tbody tr th {\n",
       "        vertical-align: top;\n",
       "    }\n",
       "\n",
       "    .dataframe thead th {\n",
       "        text-align: right;\n",
       "    }\n",
       "</style>\n",
       "<table border=\"1\" class=\"dataframe\">\n",
       "  <thead>\n",
       "    <tr style=\"text-align: right;\">\n",
       "      <th></th>\n",
       "      <th>Registration Number</th>\n",
       "      <th>Annual Turnover</th>\n",
       "      <th>Cuisine</th>\n",
       "      <th>City</th>\n",
       "      <th>Restaurant Location</th>\n",
       "      <th>Opening Day of Restaurant</th>\n",
       "      <th>Facebook Popularity Quotient</th>\n",
       "      <th>Endorsed By</th>\n",
       "      <th>Instagram Popularity Quotient</th>\n",
       "      <th>Fire Audit</th>\n",
       "      <th>...</th>\n",
       "      <th>Overall Restaurant Rating</th>\n",
       "      <th>Live Music Rating</th>\n",
       "      <th>Comedy Gigs Rating</th>\n",
       "      <th>Value Deals Rating</th>\n",
       "      <th>Live Sports Rating</th>\n",
       "      <th>Ambience</th>\n",
       "      <th>Lively</th>\n",
       "      <th>Service</th>\n",
       "      <th>Comfortablility</th>\n",
       "      <th>Privacy</th>\n",
       "    </tr>\n",
       "  </thead>\n",
       "  <tbody>\n",
       "    <tr>\n",
       "      <th>0</th>\n",
       "      <td>60001</td>\n",
       "      <td>42000000</td>\n",
       "      <td>indian,irish</td>\n",
       "      <td>Bangalore</td>\n",
       "      <td>Near Business Hub</td>\n",
       "      <td>14/02/09</td>\n",
       "      <td>84.3</td>\n",
       "      <td>Not Specific</td>\n",
       "      <td>95.8</td>\n",
       "      <td>1</td>\n",
       "      <td>...</td>\n",
       "      <td>10.0</td>\n",
       "      <td>4.0</td>\n",
       "      <td>NaN</td>\n",
       "      <td>NaN</td>\n",
       "      <td>NaN</td>\n",
       "      <td>8.0</td>\n",
       "      <td>8</td>\n",
       "      <td>6</td>\n",
       "      <td>6</td>\n",
       "      <td>6</td>\n",
       "    </tr>\n",
       "  </tbody>\n",
       "</table>\n",
       "<p>1 rows × 34 columns</p>\n",
       "</div>"
      ],
      "text/plain": [
       "   Registration Number  Annual Turnover       Cuisine       City  \\\n",
       "0                60001         42000000  indian,irish  Bangalore   \n",
       "\n",
       "  Restaurant Location Opening Day of Restaurant  Facebook Popularity Quotient  \\\n",
       "0   Near Business Hub                  14/02/09                          84.3   \n",
       "\n",
       "    Endorsed By  Instagram Popularity Quotient  Fire Audit  ...  \\\n",
       "0  Not Specific                           95.8           1  ...   \n",
       "\n",
       "   Overall Restaurant Rating  Live Music Rating  Comedy Gigs Rating  \\\n",
       "0                       10.0                4.0                 NaN   \n",
       "\n",
       "   Value Deals Rating  Live Sports Rating Ambience Lively  Service  \\\n",
       "0                 NaN                 NaN      8.0      8        6   \n",
       "\n",
       "   Comfortablility  Privacy  \n",
       "0                6        6  \n",
       "\n",
       "[1 rows x 34 columns]"
      ]
     },
     "execution_count": 3,
     "metadata": {},
     "output_type": "execute_result"
    }
   ],
   "source": [
    "train = pd.read_csv('../data/Train_dataset.csv')\n",
    "train.head(1)"
   ]
  },
  {
   "cell_type": "code",
   "execution_count": 4,
   "metadata": {},
   "outputs": [],
   "source": [
    "from kp_auto_ml import pre_processing as pp"
   ]
  },
  {
   "cell_type": "code",
   "execution_count": 5,
   "metadata": {},
   "outputs": [],
   "source": [
    "train.columns = train.columns.str.lower().str.replace(' ', '_')"
   ]
  },
  {
   "cell_type": "code",
   "execution_count": 6,
   "metadata": {},
   "outputs": [
    {
     "data": {
      "text/html": [
       "<div>\n",
       "<style scoped>\n",
       "    .dataframe tbody tr th:only-of-type {\n",
       "        vertical-align: middle;\n",
       "    }\n",
       "\n",
       "    .dataframe tbody tr th {\n",
       "        vertical-align: top;\n",
       "    }\n",
       "\n",
       "    .dataframe thead th {\n",
       "        text-align: right;\n",
       "    }\n",
       "</style>\n",
       "<table border=\"1\" class=\"dataframe\">\n",
       "  <thead>\n",
       "    <tr style=\"text-align: right;\">\n",
       "      <th></th>\n",
       "      <th>registration_number</th>\n",
       "      <th>annual_turnover</th>\n",
       "      <th>cuisine</th>\n",
       "      <th>city</th>\n",
       "      <th>restaurant_location</th>\n",
       "      <th>opening_day_of_restaurant</th>\n",
       "      <th>facebook_popularity_quotient</th>\n",
       "      <th>endorsed_by</th>\n",
       "      <th>instagram_popularity_quotient</th>\n",
       "      <th>fire_audit</th>\n",
       "      <th>...</th>\n",
       "      <th>overall_restaurant_rating</th>\n",
       "      <th>live_music_rating</th>\n",
       "      <th>comedy_gigs_rating</th>\n",
       "      <th>value_deals_rating</th>\n",
       "      <th>live_sports_rating</th>\n",
       "      <th>ambience</th>\n",
       "      <th>lively</th>\n",
       "      <th>service</th>\n",
       "      <th>comfortablility</th>\n",
       "      <th>privacy</th>\n",
       "    </tr>\n",
       "  </thead>\n",
       "  <tbody>\n",
       "    <tr>\n",
       "      <th>0</th>\n",
       "      <td>60001</td>\n",
       "      <td>42000000</td>\n",
       "      <td>indian,irish</td>\n",
       "      <td>Bangalore</td>\n",
       "      <td>Near Business Hub</td>\n",
       "      <td>14/02/09</td>\n",
       "      <td>84.3</td>\n",
       "      <td>Not Specific</td>\n",
       "      <td>95.8</td>\n",
       "      <td>1</td>\n",
       "      <td>...</td>\n",
       "      <td>10.0</td>\n",
       "      <td>4.0</td>\n",
       "      <td>NaN</td>\n",
       "      <td>NaN</td>\n",
       "      <td>NaN</td>\n",
       "      <td>8.0</td>\n",
       "      <td>8</td>\n",
       "      <td>6</td>\n",
       "      <td>6</td>\n",
       "      <td>6</td>\n",
       "    </tr>\n",
       "  </tbody>\n",
       "</table>\n",
       "<p>1 rows × 34 columns</p>\n",
       "</div>"
      ],
      "text/plain": [
       "   registration_number  annual_turnover       cuisine       city  \\\n",
       "0                60001         42000000  indian,irish  Bangalore   \n",
       "\n",
       "  restaurant_location opening_day_of_restaurant  facebook_popularity_quotient  \\\n",
       "0   Near Business Hub                  14/02/09                          84.3   \n",
       "\n",
       "    endorsed_by  instagram_popularity_quotient  fire_audit  ...  \\\n",
       "0  Not Specific                           95.8           1  ...   \n",
       "\n",
       "   overall_restaurant_rating  live_music_rating  comedy_gigs_rating  \\\n",
       "0                       10.0                4.0                 NaN   \n",
       "\n",
       "   value_deals_rating  live_sports_rating ambience lively  service  \\\n",
       "0                 NaN                 NaN      8.0      8        6   \n",
       "\n",
       "   comfortablility  privacy  \n",
       "0                6        6  \n",
       "\n",
       "[1 rows x 34 columns]"
      ]
     },
     "execution_count": 6,
     "metadata": {},
     "output_type": "execute_result"
    }
   ],
   "source": [
    "train.head(1)"
   ]
  },
  {
   "cell_type": "code",
   "execution_count": 7,
   "metadata": {},
   "outputs": [],
   "source": [
    "label_encode:list[pp.PreLabelEncoderConfig] = []\n",
    "label_encode.append(pp.PreLabelEncoderConfig(\n",
    "    column_name='city',\n",
    "    label_encoding=list({pp.LabelEncodingDict(key, idx + 1) for idx, key in enumerate(train.city.value_counts().keys())}))\n",
    "    )\n",
    "label_encode.append(pp.PreLabelEncoderConfig(\n",
    "    column_name='restaurant_location',\n",
    "    label_encoding=list({pp.LabelEncodingDict(key, idx + 1) for idx, key in enumerate(train.restaurant_location.value_counts().keys())}))\n",
    "    )\n",
    "label_encode.append(pp.PreLabelEncoderConfig(\n",
    "    column_name='endorsed_by',\n",
    "    label_encoding=list({pp.LabelEncodingDict(key, idx + 1) for idx, key in enumerate(train.endorsed_by.value_counts().keys())}))\n",
    "    )\n",
    "label_encode.append(pp.PreLabelEncoderConfig(\n",
    "    column_name='restaurant_theme',\n",
    "    label_encoding=list({pp.LabelEncodingDict(key, idx + 1) for idx, key in enumerate(train.restaurant_theme.value_counts().keys())}))\n",
    "    )\n",
    "label_encode.append(pp.PreLabelEncoderConfig(\n",
    "    column_name='restaurant_type',\n",
    "    label_encoding=list({pp.LabelEncodingDict(key, idx + 1) for idx, key in enumerate(train.restaurant_type.value_counts().keys())}))\n",
    "    )\n",
    "label_encode.append(pp.PreLabelEncoderConfig(\n",
    "    column_name='cuisine',\n",
    "    label_encoding=list({pp.LabelEncodingDict(key, idx + 1) for idx, key in enumerate(train.cuisine.value_counts().keys())}))\n",
    "    )\n",
    "\n",
    "numeric_col_changer:list[pp.PreNumericColDataChangeConfig] = []\n",
    "numeric_col_changer.append(pp.PreNumericColDataChangeConfig(col_name='facebook_popularity_quotient',data_type=int))\n",
    "numeric_col_changer.append(pp.PreNumericColDataChangeConfig(col_name='instagram_popularity_quotient',data_type=int))\n",
    "numeric_col_changer.append(pp.PreNumericColDataChangeConfig(col_name='overall_restaurant_rating',data_type=int))\n",
    "numeric_col_changer.append(pp.PreNumericColDataChangeConfig(col_name='live_music_rating',data_type=int))\n",
    "numeric_col_changer.append(pp.PreNumericColDataChangeConfig(col_name='ambience',data_type=int))\n",
    "numeric_col_changer.append(pp.PreNumericColDataChangeConfig(col_name='resturant_tier',data_type=int))\n",
    "\n",
    "model_config = pp.PreProcessingConfig(\n",
    "    encoding_dummies=[],\n",
    "    exclude_columns=['opening_day_of_restaurant','registration_number'],\n",
    "    label_encode=label_encode,\n",
    "    numeric_cols_data_changer=numeric_col_changer,\n",
    "    target_column='annual_turnover'\n",
    ")"
   ]
  },
  {
   "cell_type": "code",
   "execution_count": 8,
   "metadata": {},
   "outputs": [
    {
     "name": "stdout",
     "output_type": "stream",
     "text": [
      "Dropping columns whose values are nullable greater than 0.7\n",
      "Removing unusable values like \" \" and \"?\"\n",
      "Filling NA values with median and mode for numeria and non-numeric columns.\n",
      "Performing IQR based outliers cleaning on target. annual_turnover\n",
      "Changing datatype of numeric columns.\n",
      "Performing label encoding on columns provided.\n",
      "Encoding using dummies.\n"
     ]
    }
   ],
   "source": [
    "pre_processed_df = pp.process(train,model_config)"
   ]
  },
  {
   "cell_type": "code",
   "execution_count": 31,
   "metadata": {},
   "outputs": [],
   "source": [
    "from kp_auto_ml import model_training_data_prep as dp\n",
    "from kp_auto_ml import model_training_helper as mth"
   ]
  },
  {
   "cell_type": "code",
   "execution_count": 34,
   "metadata": {},
   "outputs": [
    {
     "name": "stdout",
     "output_type": "stream",
     "text": [
      "Ridge params: {'alpha': [0.1, 0.5, 1.0, 2.0, 5.0, 10.0, 20.0, 50.0, 100.0], 'solver': ['auto', 'svd', 'cholesky', 'lsqr', 'sparse_cg', 'sag', 'saga']}\n",
      "Total Permutations: 1\n"
     ]
    },
    {
     "ename": "InvalidParameterError",
     "evalue": "The 'estimator' parameter of RandomizedSearchCV must be an object implementing 'fit'. Got {'alpha': [0.1, 0.5, 1.0, 2.0, 5.0, 10.0, 20.0, 50.0, 100.0], 'solver': ['auto', 'svd', 'cholesky', 'lsqr', 'sparse_cg', 'sag', 'saga']} instead.",
     "output_type": "error",
     "traceback": [
      "\u001b[1;31m---------------------------------------------------------------------------\u001b[0m",
      "\u001b[1;31mInvalidParameterError\u001b[0m                     Traceback (most recent call last)",
      "Cell \u001b[1;32mIn[34], line 10\u001b[0m\n\u001b[0;32m      8\u001b[0m \u001b[38;5;28;01mfor\u001b[39;00m permuted_data \u001b[38;5;129;01min\u001b[39;00m your_instance\u001b[38;5;241m.\u001b[39mgenerate_permutations_train(min_columns\u001b[38;5;241m=\u001b[39m\u001b[38;5;28mlen\u001b[39m(pre_processed_df\u001b[38;5;241m.\u001b[39mcolumns)\u001b[38;5;241m-\u001b[39m\u001b[38;5;241m1\u001b[39m):\n\u001b[0;32m      9\u001b[0m     X_train_permuted, X_val_permuted, X_test_permuted \u001b[38;5;241m=\u001b[39m permuted_data\n\u001b[1;32m---> 10\u001b[0m     best_param,best_model,score \u001b[38;5;241m=\u001b[39m \u001b[43mmth\u001b[49m\u001b[38;5;241;43m.\u001b[39;49m\u001b[43mtrain_test_random_search_regression\u001b[49m\u001b[43m(\u001b[49m\u001b[43mmodel\u001b[49m\u001b[38;5;241;43m=\u001b[39;49m\u001b[43mmodel\u001b[49m\u001b[43m,\u001b[49m\u001b[43mparam_distributions\u001b[49m\u001b[38;5;241;43m=\u001b[39;49m\u001b[43mparam\u001b[49m\u001b[43m,\u001b[49m\u001b[43mX_train\u001b[49m\u001b[38;5;241;43m=\u001b[39;49m\u001b[43mX_train_permuted\u001b[49m\u001b[43m,\u001b[49m\u001b[43my_train\u001b[49m\u001b[38;5;241;43m=\u001b[39;49m\u001b[43myour_instance\u001b[49m\u001b[38;5;241;43m.\u001b[39;49m\u001b[43mY_train\u001b[49m\u001b[43m,\u001b[49m\u001b[43mX_test\u001b[49m\u001b[38;5;241;43m=\u001b[39;49m\u001b[43mX_val_permuted\u001b[49m\u001b[43m,\u001b[49m\u001b[43my_test\u001b[49m\u001b[38;5;241;43m=\u001b[39;49m\u001b[43myour_instance\u001b[49m\u001b[38;5;241;43m.\u001b[39;49m\u001b[43mY_test\u001b[49m\u001b[43m)\u001b[49m\n\u001b[0;32m     11\u001b[0m     \u001b[38;5;66;03m# print(X_train_permuted[0][len(X_train_permuted[0])-1])\u001b[39;00m\n\u001b[0;32m     12\u001b[0m     \u001b[38;5;28mprint\u001b[39m(score)\n",
      "File \u001b[1;32md:\\projects\\kp-auto-ml\\kp_auto_ml\\model_training_helper.py:68\u001b[0m, in \u001b[0;36mtrain_test_random_search_regression\u001b[1;34m(model, param_distributions, X_train, y_train, X_test, y_test, n_iter, scoring, cv)\u001b[0m\n\u001b[0;32m     66\u001b[0m \u001b[38;5;28;01mdef\u001b[39;00m \u001b[38;5;21mtrain_test_random_search_regression\u001b[39m(model, param_distributions, X_train, y_train, X_test, y_test, n_iter\u001b[38;5;241m=\u001b[39m\u001b[38;5;241m10\u001b[39m, scoring\u001b[38;5;241m=\u001b[39m\u001b[38;5;124m'\u001b[39m\u001b[38;5;124mr2\u001b[39m\u001b[38;5;124m'\u001b[39m, cv\u001b[38;5;241m=\u001b[39m\u001b[38;5;241m5\u001b[39m):\n\u001b[0;32m     67\u001b[0m     random_search \u001b[38;5;241m=\u001b[39m RandomizedSearchCV(estimator\u001b[38;5;241m=\u001b[39mmodel, param_distributions\u001b[38;5;241m=\u001b[39mparam_distributions, n_iter\u001b[38;5;241m=\u001b[39mn_iter, scoring\u001b[38;5;241m=\u001b[39mscoring, cv\u001b[38;5;241m=\u001b[39mcv, random_state\u001b[38;5;241m=\u001b[39m\u001b[38;5;241m42\u001b[39m)\n\u001b[1;32m---> 68\u001b[0m     \u001b[43mrandom_search\u001b[49m\u001b[38;5;241;43m.\u001b[39;49m\u001b[43mfit\u001b[49m\u001b[43m(\u001b[49m\u001b[43mX_train\u001b[49m\u001b[43m,\u001b[49m\u001b[43m \u001b[49m\u001b[43my_train\u001b[49m\u001b[43m)\u001b[49m\n\u001b[0;32m     70\u001b[0m     best_params \u001b[38;5;241m=\u001b[39m random_search\u001b[38;5;241m.\u001b[39mbest_params_\n\u001b[0;32m     71\u001b[0m     best_model \u001b[38;5;241m=\u001b[39m random_search\u001b[38;5;241m.\u001b[39mbest_estimator_\n",
      "File \u001b[1;32m~\\AppData\\Roaming\\Python\\Python310\\site-packages\\sklearn\\base.py:1467\u001b[0m, in \u001b[0;36m_fit_context.<locals>.decorator.<locals>.wrapper\u001b[1;34m(estimator, *args, **kwargs)\u001b[0m\n\u001b[0;32m   1462\u001b[0m partial_fit_and_fitted \u001b[38;5;241m=\u001b[39m (\n\u001b[0;32m   1463\u001b[0m     fit_method\u001b[38;5;241m.\u001b[39m\u001b[38;5;18m__name__\u001b[39m \u001b[38;5;241m==\u001b[39m \u001b[38;5;124m\"\u001b[39m\u001b[38;5;124mpartial_fit\u001b[39m\u001b[38;5;124m\"\u001b[39m \u001b[38;5;129;01mand\u001b[39;00m _is_fitted(estimator)\n\u001b[0;32m   1464\u001b[0m )\n\u001b[0;32m   1466\u001b[0m \u001b[38;5;28;01mif\u001b[39;00m \u001b[38;5;129;01mnot\u001b[39;00m global_skip_validation \u001b[38;5;129;01mand\u001b[39;00m \u001b[38;5;129;01mnot\u001b[39;00m partial_fit_and_fitted:\n\u001b[1;32m-> 1467\u001b[0m     \u001b[43mestimator\u001b[49m\u001b[38;5;241;43m.\u001b[39;49m\u001b[43m_validate_params\u001b[49m\u001b[43m(\u001b[49m\u001b[43m)\u001b[49m\n\u001b[0;32m   1469\u001b[0m \u001b[38;5;28;01mwith\u001b[39;00m config_context(\n\u001b[0;32m   1470\u001b[0m     skip_parameter_validation\u001b[38;5;241m=\u001b[39m(\n\u001b[0;32m   1471\u001b[0m         prefer_skip_nested_validation \u001b[38;5;129;01mor\u001b[39;00m global_skip_validation\n\u001b[0;32m   1472\u001b[0m     )\n\u001b[0;32m   1473\u001b[0m ):\n\u001b[0;32m   1474\u001b[0m     \u001b[38;5;28;01mreturn\u001b[39;00m fit_method(estimator, \u001b[38;5;241m*\u001b[39margs, \u001b[38;5;241m*\u001b[39m\u001b[38;5;241m*\u001b[39mkwargs)\n",
      "File \u001b[1;32m~\\AppData\\Roaming\\Python\\Python310\\site-packages\\sklearn\\base.py:666\u001b[0m, in \u001b[0;36mBaseEstimator._validate_params\u001b[1;34m(self)\u001b[0m\n\u001b[0;32m    658\u001b[0m \u001b[38;5;28;01mdef\u001b[39;00m \u001b[38;5;21m_validate_params\u001b[39m(\u001b[38;5;28mself\u001b[39m):\n\u001b[0;32m    659\u001b[0m \u001b[38;5;250m    \u001b[39m\u001b[38;5;124;03m\"\"\"Validate types and values of constructor parameters\u001b[39;00m\n\u001b[0;32m    660\u001b[0m \n\u001b[0;32m    661\u001b[0m \u001b[38;5;124;03m    The expected type and values must be defined in the `_parameter_constraints`\u001b[39;00m\n\u001b[1;32m   (...)\u001b[0m\n\u001b[0;32m    664\u001b[0m \u001b[38;5;124;03m    accepted constraints.\u001b[39;00m\n\u001b[0;32m    665\u001b[0m \u001b[38;5;124;03m    \"\"\"\u001b[39;00m\n\u001b[1;32m--> 666\u001b[0m     \u001b[43mvalidate_parameter_constraints\u001b[49m\u001b[43m(\u001b[49m\n\u001b[0;32m    667\u001b[0m \u001b[43m        \u001b[49m\u001b[38;5;28;43mself\u001b[39;49m\u001b[38;5;241;43m.\u001b[39;49m\u001b[43m_parameter_constraints\u001b[49m\u001b[43m,\u001b[49m\n\u001b[0;32m    668\u001b[0m \u001b[43m        \u001b[49m\u001b[38;5;28;43mself\u001b[39;49m\u001b[38;5;241;43m.\u001b[39;49m\u001b[43mget_params\u001b[49m\u001b[43m(\u001b[49m\u001b[43mdeep\u001b[49m\u001b[38;5;241;43m=\u001b[39;49m\u001b[38;5;28;43;01mFalse\u001b[39;49;00m\u001b[43m)\u001b[49m\u001b[43m,\u001b[49m\n\u001b[0;32m    669\u001b[0m \u001b[43m        \u001b[49m\u001b[43mcaller_name\u001b[49m\u001b[38;5;241;43m=\u001b[39;49m\u001b[38;5;28;43mself\u001b[39;49m\u001b[38;5;241;43m.\u001b[39;49m\u001b[38;5;18;43m__class__\u001b[39;49m\u001b[38;5;241;43m.\u001b[39;49m\u001b[38;5;18;43m__name__\u001b[39;49m\u001b[43m,\u001b[49m\n\u001b[0;32m    670\u001b[0m \u001b[43m    \u001b[49m\u001b[43m)\u001b[49m\n",
      "File \u001b[1;32m~\\AppData\\Roaming\\Python\\Python310\\site-packages\\sklearn\\utils\\_param_validation.py:95\u001b[0m, in \u001b[0;36mvalidate_parameter_constraints\u001b[1;34m(parameter_constraints, params, caller_name)\u001b[0m\n\u001b[0;32m     89\u001b[0m \u001b[38;5;28;01melse\u001b[39;00m:\n\u001b[0;32m     90\u001b[0m     constraints_str \u001b[38;5;241m=\u001b[39m (\n\u001b[0;32m     91\u001b[0m         \u001b[38;5;124mf\u001b[39m\u001b[38;5;124m\"\u001b[39m\u001b[38;5;132;01m{\u001b[39;00m\u001b[38;5;124m'\u001b[39m\u001b[38;5;124m, \u001b[39m\u001b[38;5;124m'\u001b[39m\u001b[38;5;241m.\u001b[39mjoin([\u001b[38;5;28mstr\u001b[39m(c)\u001b[38;5;250m \u001b[39m\u001b[38;5;28;01mfor\u001b[39;00m\u001b[38;5;250m \u001b[39mc\u001b[38;5;250m \u001b[39m\u001b[38;5;129;01min\u001b[39;00m\u001b[38;5;250m \u001b[39mconstraints[:\u001b[38;5;241m-\u001b[39m\u001b[38;5;241m1\u001b[39m]])\u001b[38;5;132;01m}\u001b[39;00m\u001b[38;5;124m or\u001b[39m\u001b[38;5;124m\"\u001b[39m\n\u001b[0;32m     92\u001b[0m         \u001b[38;5;124mf\u001b[39m\u001b[38;5;124m\"\u001b[39m\u001b[38;5;124m \u001b[39m\u001b[38;5;132;01m{\u001b[39;00mconstraints[\u001b[38;5;241m-\u001b[39m\u001b[38;5;241m1\u001b[39m]\u001b[38;5;132;01m}\u001b[39;00m\u001b[38;5;124m\"\u001b[39m\n\u001b[0;32m     93\u001b[0m     )\n\u001b[1;32m---> 95\u001b[0m \u001b[38;5;28;01mraise\u001b[39;00m InvalidParameterError(\n\u001b[0;32m     96\u001b[0m     \u001b[38;5;124mf\u001b[39m\u001b[38;5;124m\"\u001b[39m\u001b[38;5;124mThe \u001b[39m\u001b[38;5;132;01m{\u001b[39;00mparam_name\u001b[38;5;132;01m!r}\u001b[39;00m\u001b[38;5;124m parameter of \u001b[39m\u001b[38;5;132;01m{\u001b[39;00mcaller_name\u001b[38;5;132;01m}\u001b[39;00m\u001b[38;5;124m must be\u001b[39m\u001b[38;5;124m\"\u001b[39m\n\u001b[0;32m     97\u001b[0m     \u001b[38;5;124mf\u001b[39m\u001b[38;5;124m\"\u001b[39m\u001b[38;5;124m \u001b[39m\u001b[38;5;132;01m{\u001b[39;00mconstraints_str\u001b[38;5;132;01m}\u001b[39;00m\u001b[38;5;124m. Got \u001b[39m\u001b[38;5;132;01m{\u001b[39;00mparam_val\u001b[38;5;132;01m!r}\u001b[39;00m\u001b[38;5;124m instead.\u001b[39m\u001b[38;5;124m\"\u001b[39m\n\u001b[0;32m     98\u001b[0m )\n",
      "\u001b[1;31mInvalidParameterError\u001b[0m: The 'estimator' parameter of RandomizedSearchCV must be an object implementing 'fit'. Got {'alpha': [0.1, 0.5, 1.0, 2.0, 5.0, 10.0, 20.0, 50.0, 100.0], 'solver': ['auto', 'svd', 'cholesky', 'lsqr', 'sparse_cg', 'sag', 'saga']} instead."
     ]
    }
   ],
   "source": [
    "# Assuming dp.ModelTrainingData(pre_processed_df, dp.ScalerType.STANDARD_SCALER, .95) returns an instance of YourClass\n",
    "\n",
    "# Create an instance of YourClass\n",
    "your_instance = dp.ModelTrainingData(pre_processed_df, dp.ScalerType.STANDARD_SCALER, .90,use_pca=True,use_polynomials=True)\n",
    "\n",
    "# Generate permutations and assign the result to a single variable\n",
    "model, param = mth.get_model_and_param(power=mth.ModelPower.HIGH,model_and_param=mth.ModelAndParam.Ridge_Regression)\n",
    "for permuted_data in your_instance.generate_permutations_train(min_columns=len(pre_processed_df.columns)-1):\n",
    "    X_train_permuted, X_val_permuted, X_test_permuted = permuted_data\n",
    "    best_param,best_model,score = mth.train_test_random_search_regression(model=model,param_distributions=param,X_train=X_train_permuted,y_train=your_instance.Y_train,X_test=X_val_permuted,y_test=your_instance.Y_test)\n",
    "    # print(X_train_permuted[0][len(X_train_permuted[0])-1])\n",
    "    print(score)"
   ]
  }
 ],
 "metadata": {
  "kernelspec": {
   "display_name": "Python 3",
   "language": "python",
   "name": "python3"
  },
  "language_info": {
   "codemirror_mode": {
    "name": "ipython",
    "version": 3
   },
   "file_extension": ".py",
   "mimetype": "text/x-python",
   "name": "python",
   "nbconvert_exporter": "python",
   "pygments_lexer": "ipython3",
   "version": "3.10.11"
  }
 },
 "nbformat": 4,
 "nbformat_minor": 2
}
