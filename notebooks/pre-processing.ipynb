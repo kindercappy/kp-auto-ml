{
 "cells": [
  {
   "cell_type": "code",
   "execution_count": 1,
   "metadata": {},
   "outputs": [],
   "source": [
    "%load_ext autoreload\n",
    "%autoreload 2"
   ]
  },
  {
   "cell_type": "code",
   "execution_count": 2,
   "metadata": {},
   "outputs": [],
   "source": [
    "import pandas as pd"
   ]
  },
  {
   "cell_type": "code",
   "execution_count": 3,
   "metadata": {},
   "outputs": [
    {
     "data": {
      "text/html": [
       "<div>\n",
       "<style scoped>\n",
       "    .dataframe tbody tr th:only-of-type {\n",
       "        vertical-align: middle;\n",
       "    }\n",
       "\n",
       "    .dataframe tbody tr th {\n",
       "        vertical-align: top;\n",
       "    }\n",
       "\n",
       "    .dataframe thead th {\n",
       "        text-align: right;\n",
       "    }\n",
       "</style>\n",
       "<table border=\"1\" class=\"dataframe\">\n",
       "  <thead>\n",
       "    <tr style=\"text-align: right;\">\n",
       "      <th></th>\n",
       "      <th>Registration Number</th>\n",
       "      <th>Annual Turnover</th>\n",
       "      <th>Cuisine</th>\n",
       "      <th>City</th>\n",
       "      <th>Restaurant Location</th>\n",
       "      <th>Opening Day of Restaurant</th>\n",
       "      <th>Facebook Popularity Quotient</th>\n",
       "      <th>Endorsed By</th>\n",
       "      <th>Instagram Popularity Quotient</th>\n",
       "      <th>Fire Audit</th>\n",
       "      <th>...</th>\n",
       "      <th>Overall Restaurant Rating</th>\n",
       "      <th>Live Music Rating</th>\n",
       "      <th>Comedy Gigs Rating</th>\n",
       "      <th>Value Deals Rating</th>\n",
       "      <th>Live Sports Rating</th>\n",
       "      <th>Ambience</th>\n",
       "      <th>Lively</th>\n",
       "      <th>Service</th>\n",
       "      <th>Comfortablility</th>\n",
       "      <th>Privacy</th>\n",
       "    </tr>\n",
       "  </thead>\n",
       "  <tbody>\n",
       "    <tr>\n",
       "      <th>0</th>\n",
       "      <td>60001</td>\n",
       "      <td>42000000</td>\n",
       "      <td>indian,irish</td>\n",
       "      <td>Bangalore</td>\n",
       "      <td>Near Business Hub</td>\n",
       "      <td>14/02/09</td>\n",
       "      <td>84.3</td>\n",
       "      <td>Not Specific</td>\n",
       "      <td>95.8</td>\n",
       "      <td>1</td>\n",
       "      <td>...</td>\n",
       "      <td>10.0</td>\n",
       "      <td>4.0</td>\n",
       "      <td>NaN</td>\n",
       "      <td>NaN</td>\n",
       "      <td>NaN</td>\n",
       "      <td>8.0</td>\n",
       "      <td>8</td>\n",
       "      <td>6</td>\n",
       "      <td>6</td>\n",
       "      <td>6</td>\n",
       "    </tr>\n",
       "  </tbody>\n",
       "</table>\n",
       "<p>1 rows × 34 columns</p>\n",
       "</div>"
      ],
      "text/plain": [
       "   Registration Number  Annual Turnover       Cuisine       City  \\\n",
       "0                60001         42000000  indian,irish  Bangalore   \n",
       "\n",
       "  Restaurant Location Opening Day of Restaurant  Facebook Popularity Quotient  \\\n",
       "0   Near Business Hub                  14/02/09                          84.3   \n",
       "\n",
       "    Endorsed By  Instagram Popularity Quotient  Fire Audit  ...  \\\n",
       "0  Not Specific                           95.8           1  ...   \n",
       "\n",
       "   Overall Restaurant Rating  Live Music Rating  Comedy Gigs Rating  \\\n",
       "0                       10.0                4.0                 NaN   \n",
       "\n",
       "   Value Deals Rating  Live Sports Rating Ambience Lively  Service  \\\n",
       "0                 NaN                 NaN      8.0      8        6   \n",
       "\n",
       "   Comfortablility  Privacy  \n",
       "0                6        6  \n",
       "\n",
       "[1 rows x 34 columns]"
      ]
     },
     "execution_count": 3,
     "metadata": {},
     "output_type": "execute_result"
    }
   ],
   "source": [
    "train = pd.read_csv('../data/Train_dataset.csv')\n",
    "train.head(1)"
   ]
  },
  {
   "cell_type": "code",
   "execution_count": 4,
   "metadata": {},
   "outputs": [],
   "source": [
    "from kp_auto_ml import pre_processing as pp"
   ]
  },
  {
   "cell_type": "code",
   "execution_count": 5,
   "metadata": {},
   "outputs": [],
   "source": [
    "train.columns = train.columns.str.lower().str.replace(' ', '_')"
   ]
  },
  {
   "cell_type": "code",
   "execution_count": 6,
   "metadata": {},
   "outputs": [
    {
     "data": {
      "text/html": [
       "<div>\n",
       "<style scoped>\n",
       "    .dataframe tbody tr th:only-of-type {\n",
       "        vertical-align: middle;\n",
       "    }\n",
       "\n",
       "    .dataframe tbody tr th {\n",
       "        vertical-align: top;\n",
       "    }\n",
       "\n",
       "    .dataframe thead th {\n",
       "        text-align: right;\n",
       "    }\n",
       "</style>\n",
       "<table border=\"1\" class=\"dataframe\">\n",
       "  <thead>\n",
       "    <tr style=\"text-align: right;\">\n",
       "      <th></th>\n",
       "      <th>registration_number</th>\n",
       "      <th>annual_turnover</th>\n",
       "      <th>cuisine</th>\n",
       "      <th>city</th>\n",
       "      <th>restaurant_location</th>\n",
       "      <th>opening_day_of_restaurant</th>\n",
       "      <th>facebook_popularity_quotient</th>\n",
       "      <th>endorsed_by</th>\n",
       "      <th>instagram_popularity_quotient</th>\n",
       "      <th>fire_audit</th>\n",
       "      <th>...</th>\n",
       "      <th>overall_restaurant_rating</th>\n",
       "      <th>live_music_rating</th>\n",
       "      <th>comedy_gigs_rating</th>\n",
       "      <th>value_deals_rating</th>\n",
       "      <th>live_sports_rating</th>\n",
       "      <th>ambience</th>\n",
       "      <th>lively</th>\n",
       "      <th>service</th>\n",
       "      <th>comfortablility</th>\n",
       "      <th>privacy</th>\n",
       "    </tr>\n",
       "  </thead>\n",
       "  <tbody>\n",
       "    <tr>\n",
       "      <th>0</th>\n",
       "      <td>60001</td>\n",
       "      <td>42000000</td>\n",
       "      <td>indian,irish</td>\n",
       "      <td>Bangalore</td>\n",
       "      <td>Near Business Hub</td>\n",
       "      <td>14/02/09</td>\n",
       "      <td>84.3</td>\n",
       "      <td>Not Specific</td>\n",
       "      <td>95.8</td>\n",
       "      <td>1</td>\n",
       "      <td>...</td>\n",
       "      <td>10.0</td>\n",
       "      <td>4.0</td>\n",
       "      <td>NaN</td>\n",
       "      <td>NaN</td>\n",
       "      <td>NaN</td>\n",
       "      <td>8.0</td>\n",
       "      <td>8</td>\n",
       "      <td>6</td>\n",
       "      <td>6</td>\n",
       "      <td>6</td>\n",
       "    </tr>\n",
       "  </tbody>\n",
       "</table>\n",
       "<p>1 rows × 34 columns</p>\n",
       "</div>"
      ],
      "text/plain": [
       "   registration_number  annual_turnover       cuisine       city  \\\n",
       "0                60001         42000000  indian,irish  Bangalore   \n",
       "\n",
       "  restaurant_location opening_day_of_restaurant  facebook_popularity_quotient  \\\n",
       "0   Near Business Hub                  14/02/09                          84.3   \n",
       "\n",
       "    endorsed_by  instagram_popularity_quotient  fire_audit  ...  \\\n",
       "0  Not Specific                           95.8           1  ...   \n",
       "\n",
       "   overall_restaurant_rating  live_music_rating  comedy_gigs_rating  \\\n",
       "0                       10.0                4.0                 NaN   \n",
       "\n",
       "   value_deals_rating  live_sports_rating ambience lively  service  \\\n",
       "0                 NaN                 NaN      8.0      8        6   \n",
       "\n",
       "   comfortablility  privacy  \n",
       "0                6        6  \n",
       "\n",
       "[1 rows x 34 columns]"
      ]
     },
     "execution_count": 6,
     "metadata": {},
     "output_type": "execute_result"
    }
   ],
   "source": [
    "train.head(1)"
   ]
  },
  {
   "cell_type": "code",
   "execution_count": 7,
   "metadata": {},
   "outputs": [],
   "source": [
    "label_encode:list[pp.PreLabelEncoderConfig] = []\n",
    "label_encode.append(pp.PreLabelEncoderConfig(\n",
    "    column_name='city',\n",
    "    label_encoding=list({pp.LabelEncodingDict(key, idx + 1) for idx, key in enumerate(train.city.value_counts().keys())}))\n",
    "    )\n",
    "label_encode.append(pp.PreLabelEncoderConfig(\n",
    "    column_name='restaurant_location',\n",
    "    label_encoding=list({pp.LabelEncodingDict(key, idx + 1) for idx, key in enumerate(train.restaurant_location.value_counts().keys())}))\n",
    "    )\n",
    "label_encode.append(pp.PreLabelEncoderConfig(\n",
    "    column_name='endorsed_by',\n",
    "    label_encoding=list({pp.LabelEncodingDict(key, idx + 1) for idx, key in enumerate(train.endorsed_by.value_counts().keys())}))\n",
    "    )\n",
    "label_encode.append(pp.PreLabelEncoderConfig(\n",
    "    column_name='restaurant_theme',\n",
    "    label_encoding=list({pp.LabelEncodingDict(key, idx + 1) for idx, key in enumerate(train.restaurant_theme.value_counts().keys())}))\n",
    "    )\n",
    "label_encode.append(pp.PreLabelEncoderConfig(\n",
    "    column_name='restaurant_type',\n",
    "    label_encoding=list({pp.LabelEncodingDict(key, idx + 1) for idx, key in enumerate(train.restaurant_type.value_counts().keys())}))\n",
    "    )\n",
    "label_encode.append(pp.PreLabelEncoderConfig(\n",
    "    column_name='cuisine',\n",
    "    label_encoding=list({pp.LabelEncodingDict(key, idx + 1) for idx, key in enumerate(train.cuisine.value_counts().keys())}))\n",
    "    )\n",
    "\n",
    "numeric_col_changer:list[pp.PreNumericColDataChangeConfig] = []\n",
    "numeric_col_changer.append(pp.PreNumericColDataChangeConfig(col_name='facebook_popularity_quotient',data_type=int))\n",
    "numeric_col_changer.append(pp.PreNumericColDataChangeConfig(col_name='instagram_popularity_quotient',data_type=int))\n",
    "numeric_col_changer.append(pp.PreNumericColDataChangeConfig(col_name='overall_restaurant_rating',data_type=int))\n",
    "numeric_col_changer.append(pp.PreNumericColDataChangeConfig(col_name='live_music_rating',data_type=int))\n",
    "numeric_col_changer.append(pp.PreNumericColDataChangeConfig(col_name='ambience',data_type=int))\n",
    "numeric_col_changer.append(pp.PreNumericColDataChangeConfig(col_name='resturant_tier',data_type=int))\n",
    "\n",
    "model_config = pp.PreProcessingConfig(\n",
    "    encoding_dummies=[],\n",
    "    exclude_columns=['opening_day_of_restaurant','registration_number'],\n",
    "    label_encode=label_encode,\n",
    "    numeric_cols_data_changer=numeric_col_changer,\n",
    "    target_column='annual_turnover'\n",
    ")"
   ]
  },
  {
   "cell_type": "code",
   "execution_count": 8,
   "metadata": {},
   "outputs": [
    {
     "name": "stdout",
     "output_type": "stream",
     "text": [
      "Dropping columns whose values are nullable greater than 0.7\n",
      "Removing unusable values like \" \" and \"?\"\n",
      "Filling NA values with median and mode for numeria and non-numeric columns.\n",
      "Performing IQR based outliers cleaning on target. annual_turnover\n",
      "Changing datatype of numeric columns.\n",
      "Performing label encoding on columns provided.\n",
      "Encoding using dummies.\n"
     ]
    }
   ],
   "source": [
    "pre_processed_df = pp.process(train,model_config)"
   ]
  },
  {
   "cell_type": "code",
   "execution_count": 9,
   "metadata": {},
   "outputs": [],
   "source": [
    "from kp_auto_ml import model_training_data_prep as dp\n",
    "from kp_auto_ml import model_training_helper as mth\n",
    "from kp_auto_ml import model_list_helper as mlh"
   ]
  },
  {
   "cell_type": "code",
   "execution_count": 10,
   "metadata": {},
   "outputs": [
    {
     "name": "stdout",
     "output_type": "stream",
     "text": [
      "Total columns being used after all data transformations: 28\n",
      "Ridge params: {'alpha': [0.1, 0.5, 1.0, 2.0, 5.0, 10.0, 20.0, 50.0, 100.0], 'solver': ['auto', 'svd', 'cholesky', 'lsqr', 'sparse_cg', 'sag', 'saga']}\n",
      "Total Permutations: 1\n"
     ]
    },
    {
     "data": {
      "text/plain": [
       "model_name    Ridge_Regression\n",
       "score                 0.231142\n",
       "RMSE           11233232.534757\n",
       "Name: 0, dtype: object"
      ]
     },
     "execution_count": 10,
     "metadata": {},
     "output_type": "execute_result"
    }
   ],
   "source": [
    "data = dp.ModelTrainingData(pre_processed_df, dp.ScalerType.QUANTILE_TRANSFORMER, .85,use_pca=False,use_polynomials=False,use_feature_selection=False)\n",
    "trainer = mth.ModelTrainer(data=data)\n",
    "trainer.perform_operation_regression(exclude_models=[\n",
    "    mlh.ModelAndParam.Linear_Regression\n",
    "    # ,mlh.ModelAndParam.Ridge_Regression\n",
    "    ,mlh.ModelAndParam.Lasso_Regression\n",
    "    ,mlh.ModelAndParam.ElasticNet_Regression\n",
    "    ,mlh.ModelAndParam.SVR_Regression\n",
    "    ,mlh.ModelAndParam.DecisionTree_Regressor\n",
    "    ,mlh.ModelAndParam.RandomForest_Regressor\n",
    "    ,mlh.ModelAndParam.GradientBoosting_Regressor\n",
    "    ,mlh.ModelAndParam.KNeighbors_Regressor\n",
    "\n",
    "    ],permutate_n_less_column=0)\n",
    "trainer.performance_df.loc[trainer.performance_df['score'].idxmax()]"
   ]
  },
  {
   "cell_type": "code",
   "execution_count": 94,
   "metadata": {},
   "outputs": [],
   "source": [
    "from kp_auto_ml import neural_network_regression as nnr"
   ]
  },
  {
   "cell_type": "code",
   "execution_count": 95,
   "metadata": {},
   "outputs": [
    {
     "name": "stdout",
     "output_type": "stream",
     "text": [
      "|   iter    |  target   | activa... | batch_... |  dropout  | dropou... |  epochs   |  layers1  |  layers2  | learni... |  neurons  | normal... | optimizer |\n",
      "-------------------------------------------------------------------------------------------------------------------------------------------------------------\n",
      "| \u001b[0m1        \u001b[0m | \u001b[0m-9.678e+1\u001b[0m | \u001b[0m5.51     \u001b[0m | \u001b[0m335.3    \u001b[0m | \u001b[0m0.4361   \u001b[0m | \u001b[0m0.2308   \u001b[0m | \u001b[0m43.63    \u001b[0m | \u001b[0m1.298    \u001b[0m | \u001b[0m1.045    \u001b[0m | \u001b[0m0.426    \u001b[0m | \u001b[0m31.48    \u001b[0m | \u001b[0m0.3377   \u001b[0m | \u001b[0m5.944    \u001b[0m |\n",
      "| \u001b[95m2        \u001b[0m | \u001b[95m-8.632e+1\u001b[0m | \u001b[95m2.14     \u001b[0m | \u001b[95m265.0    \u001b[0m | \u001b[95m0.6696   \u001b[0m | \u001b[95m0.1864   \u001b[0m | \u001b[95m41.94    \u001b[0m | \u001b[95m1.932    \u001b[0m | \u001b[95m1.237    \u001b[0m | \u001b[95m0.08322  \u001b[0m | \u001b[95m91.07    \u001b[0m | \u001b[95m0.794    \u001b[0m | \u001b[95m5.043    \u001b[0m |\n",
      "| \u001b[0m3        \u001b[0m | \u001b[0m-9.678e+1\u001b[0m | \u001b[0m4.69     \u001b[0m | \u001b[0m264.7    \u001b[0m | \u001b[0m0.9162   \u001b[0m | \u001b[0m0.1493   \u001b[0m | \u001b[0m43.12    \u001b[0m | \u001b[0m1.487    \u001b[0m | \u001b[0m1.564    \u001b[0m | \u001b[0m0.6924   \u001b[0m | \u001b[0m90.44    \u001b[0m | \u001b[0m0.8239   \u001b[0m | \u001b[0m2.537    \u001b[0m |\n",
      "| \u001b[0m4        \u001b[0m | \u001b[0m-9.678e+1\u001b[0m | \u001b[0m8.727    \u001b[0m | \u001b[0m405.2    \u001b[0m | \u001b[0m0.6846   \u001b[0m | \u001b[0m0.1085   \u001b[0m | \u001b[0m25.47    \u001b[0m | \u001b[0m1.412    \u001b[0m | \u001b[0m2.167    \u001b[0m | \u001b[0m0.7813   \u001b[0m | \u001b[0m44.51    \u001b[0m | \u001b[0m0.02933  \u001b[0m | \u001b[0m2.594    \u001b[0m |\n",
      "=============================================================================================================================================================\n"
     ]
    }
   ],
   "source": [
    "trainer.perform_neural_network_regression()"
   ]
  },
  {
   "cell_type": "code",
   "execution_count": 102,
   "metadata": {},
   "outputs": [
    {
     "name": "stdout",
     "output_type": "stream",
     "text": [
      "Model: \"sequential_250\"\n",
      "_________________________________________________________________\n",
      " Layer (type)                Output Shape              Param #   \n",
      "=================================================================\n",
      " dense_1143 (Dense)          (None, 91)                2639      \n",
      "                                                                 \n",
      " batch_normalization_138 (B  (None, 91)                364       \n",
      " atchNormalization)                                              \n",
      "                                                                 \n",
      " dense_1144 (Dense)          (None, 91)                8372      \n",
      "                                                                 \n",
      " dense_1145 (Dense)          (None, 91)                8372      \n",
      "                                                                 \n",
      " dropout_153 (Dropout)       (None, 91)                0         \n",
      "                                                                 \n",
      " dense_1146 (Dense)          (None, 91)                8372      \n",
      "                                                                 \n",
      " dense_1147 (Dense)          (None, 1)                 92        \n",
      "                                                                 \n",
      "=================================================================\n",
      "Total params: 28211 (110.20 KB)\n",
      "Trainable params: 28029 (109.49 KB)\n",
      "Non-trainable params: 182 (728.00 Byte)\n",
      "_________________________________________________________________\n",
      "<keras.src.optimizers.adamax.Adamax object at 0x000002DC097B3280>\n",
      "Epoch 1/42\n",
      "8/8 [==============================] - 1s 24ms/step - loss: 967771559034880.0000 - val_loss: 937271989633024.0000\n",
      "Epoch 2/42\n",
      "8/8 [==============================] - 0s 6ms/step - loss: 967771290599424.0000 - val_loss: 937270983000064.0000\n",
      "Epoch 3/42\n",
      "8/8 [==============================] - 0s 8ms/step - loss: 967770887946240.0000 - val_loss: 937269976367104.0000\n",
      "Epoch 4/42\n",
      "8/8 [==============================] - 0s 7ms/step - loss: 967770216857600.0000 - val_loss: 937268499972096.0000\n",
      "Epoch 5/42\n",
      "8/8 [==============================] - 0s 7ms/step - loss: 967769545768960.0000 - val_loss: 937266285379584.0000\n",
      "Epoch 6/42\n",
      "8/8 [==============================] - 0s 10ms/step - loss: 967768337809408.0000 - val_loss: 937263332589568.0000\n",
      "Epoch 7/42\n",
      "8/8 [==============================] - 0s 10ms/step - loss: 967766861414400.0000 - val_loss: 937259238948864.0000\n",
      "Epoch 8/42\n",
      "8/8 [==============================] - 0s 7ms/step - loss: 967764579713024.0000 - val_loss: 937253736022016.0000\n",
      "Epoch 9/42\n",
      "8/8 [==============================] - 0s 9ms/step - loss: 967761559814144.0000 - val_loss: 937246689591296.0000\n",
      "Epoch 10/42\n",
      "8/8 [==============================] - 0s 8ms/step - loss: 967757533282304.0000 - val_loss: 937237965438976.0000\n",
      "Epoch 11/42\n",
      "8/8 [==============================] - 0s 8ms/step - loss: 967752298790912.0000 - val_loss: 937227295129600.0000\n",
      "Epoch 12/42\n",
      "8/8 [==============================] - 0s 9ms/step - loss: 967745520795648.0000 - val_loss: 937214074683392.0000\n",
      "Epoch 13/42\n",
      "8/8 [==============================] - 0s 7ms/step - loss: 967736595316736.0000 - val_loss: 937197968556032.0000\n",
      "Epoch 14/42\n",
      "8/8 [==============================] - 0s 8ms/step - loss: 967725388136448.0000 - val_loss: 937177970114560.0000\n",
      "Epoch 15/42\n",
      "8/8 [==============================] - 0s 9ms/step - loss: 967711362383872.0000 - val_loss: 937154482012160.0000\n",
      "Epoch 16/42\n",
      "8/8 [==============================] - 0s 8ms/step - loss: 967693846970368.0000 - val_loss: 937127235813376.0000\n",
      "Epoch 17/42\n",
      "8/8 [==============================] - 0s 8ms/step - loss: 967671969480704.0000 - val_loss: 937094486687744.0000\n",
      "Epoch 18/42\n",
      "8/8 [==============================] - 0s 9ms/step - loss: 967645125935104.0000 - val_loss: 937055764873216.0000\n",
      "Epoch 19/42\n",
      "8/8 [==============================] - 0s 7ms/step - loss: 967612376809472.0000 - val_loss: 937009929519104.0000\n",
      "Epoch 20/42\n",
      "8/8 [==============================] - 0s 8ms/step - loss: 967573587886080.0000 - val_loss: 936958993891328.0000\n",
      "Epoch 21/42\n",
      "8/8 [==============================] - 0s 7ms/step - loss: 967528088076288.0000 - val_loss: 936901414486016.0000\n",
      "Epoch 22/42\n",
      "8/8 [==============================] - 0s 7ms/step - loss: 967472521936896.0000 - val_loss: 936833366097920.0000\n",
      "Epoch 23/42\n",
      "8/8 [==============================] - 0s 18ms/step - loss: 967407627665408.0000 - val_loss: 936755922468864.0000\n",
      "Epoch 24/42\n",
      "8/8 [==============================] - 0s 9ms/step - loss: 967328640532480.0000 - val_loss: 936672841695232.0000\n",
      "Epoch 25/42\n",
      "8/8 [==============================] - 0s 8ms/step - loss: 967240459485184.0000 - val_loss: 936583922450432.0000\n",
      "Epoch 26/42\n",
      "8/8 [==============================] - 0s 9ms/step - loss: 967138923773952.0000 - val_loss: 936484265787392.0000\n",
      "Epoch 27/42\n",
      "8/8 [==============================] - 0s 9ms/step - loss: 967019805540352.0000 - val_loss: 936367697690624.0000\n",
      "Epoch 28/42\n",
      "8/8 [==============================] - 0s 7ms/step - loss: 966888339275776.0000 - val_loss: 936231466696704.0000\n",
      "Epoch 29/42\n",
      "8/8 [==============================] - 0s 7ms/step - loss: 966741706407936.0000 - val_loss: 936097383186432.0000\n",
      "Epoch 30/42\n",
      "8/8 [==============================] - 0s 7ms/step - loss: 966578766086144.0000 - val_loss: 935946656677888.0000\n",
      "Epoch 31/42\n",
      "8/8 [==============================] - 0s 9ms/step - loss: 966392337661952.0000 - val_loss: 935796064387072.0000\n",
      "Epoch 32/42\n",
      "8/8 [==============================] - 0s 8ms/step - loss: 966177857732608.0000 - val_loss: 935608092459008.0000\n",
      "Epoch 33/42\n",
      "8/8 [==============================] - 0s 7ms/step - loss: 965929085173760.0000 - val_loss: 935409785765888.0000\n",
      "Epoch 34/42\n",
      "8/8 [==============================] - 0s 9ms/step - loss: 965647362162688.0000 - val_loss: 935177790423040.0000\n",
      "Epoch 35/42\n",
      "8/8 [==============================] - 0s 8ms/step - loss: 965327521316864.0000 - val_loss: 934894658125824.0000\n",
      "Epoch 36/42\n",
      "8/8 [==============================] - 0s 11ms/step - loss: 964986742505472.0000 - val_loss: 934579514900480.0000\n",
      "Epoch 37/42\n",
      "8/8 [==============================] - 0s 12ms/step - loss: 964602208714752.0000 - val_loss: 934162567528448.0000\n",
      "Epoch 38/42\n",
      "8/8 [==============================] - 0s 8ms/step - loss: 964179691307008.0000 - val_loss: 933751055974400.0000\n",
      "Epoch 39/42\n",
      "8/8 [==============================] - 0s 9ms/step - loss: 963705365856256.0000 - val_loss: 933245457793024.0000\n",
      "Epoch 40/42\n",
      "8/8 [==============================] - 0s 7ms/step - loss: 963193862094848.0000 - val_loss: 932796163948544.0000\n",
      "Epoch 41/42\n",
      "8/8 [==============================] - 0s 8ms/step - loss: 962607196405760.0000 - val_loss: 932263252459520.0000\n",
      "Epoch 42/42\n",
      "8/8 [==============================] - 0s 8ms/step - loss: 962011739455488.0000 - val_loss: 931648535265280.0000\n",
      "Model: \"sequential_251\"\n",
      "_________________________________________________________________\n",
      " Layer (type)                Output Shape              Param #   \n",
      "=================================================================\n",
      " dense_1148 (Dense)          (None, 91)                2639      \n",
      "                                                                 \n",
      " batch_normalization_139 (B  (None, 91)                364       \n",
      " atchNormalization)                                              \n",
      "                                                                 \n",
      " dense_1149 (Dense)          (None, 91)                8372      \n",
      "                                                                 \n",
      " dense_1150 (Dense)          (None, 91)                8372      \n",
      "                                                                 \n",
      " dropout_154 (Dropout)       (None, 91)                0         \n",
      "                                                                 \n",
      " dense_1151 (Dense)          (None, 91)                8372      \n",
      "                                                                 \n",
      " dense_1152 (Dense)          (None, 1)                 92        \n",
      "                                                                 \n",
      "=================================================================\n",
      "Total params: 28211 (110.20 KB)\n",
      "Trainable params: 28029 (109.49 KB)\n",
      "Non-trainable params: 182 (728.00 Byte)\n",
      "_________________________________________________________________\n",
      "<keras.src.optimizers.adamax.Adamax object at 0x000002DC0BBD1A50>\n"
     ]
    }
   ],
   "source": [
    "trainer.neural_network_best_model()"
   ]
  },
  {
   "cell_type": "code",
   "execution_count": 103,
   "metadata": {},
   "outputs": [
    {
     "data": {
      "text/html": [
       "<div>\n",
       "<style scoped>\n",
       "    .dataframe tbody tr th:only-of-type {\n",
       "        vertical-align: middle;\n",
       "    }\n",
       "\n",
       "    .dataframe tbody tr th {\n",
       "        vertical-align: top;\n",
       "    }\n",
       "\n",
       "    .dataframe thead th {\n",
       "        text-align: right;\n",
       "    }\n",
       "</style>\n",
       "<table border=\"1\" class=\"dataframe\">\n",
       "  <thead>\n",
       "    <tr style=\"text-align: right;\">\n",
       "      <th></th>\n",
       "      <th>model_name</th>\n",
       "      <th>score</th>\n",
       "      <th>RMSE</th>\n",
       "    </tr>\n",
       "  </thead>\n",
       "  <tbody>\n",
       "    <tr>\n",
       "      <th>0</th>\n",
       "      <td>Ridge_Regression</td>\n",
       "      <td>0.231142</td>\n",
       "      <td>1.123323e+07</td>\n",
       "    </tr>\n",
       "    <tr>\n",
       "      <th>1</th>\n",
       "      <td>NeuralNetwork</td>\n",
       "      <td>-5.124911</td>\n",
       "      <td>3.179770e+07</td>\n",
       "    </tr>\n",
       "    <tr>\n",
       "      <th>2</th>\n",
       "      <td>NeuralNetwork</td>\n",
       "      <td>-5.099450</td>\n",
       "      <td>3.173155e+07</td>\n",
       "    </tr>\n",
       "  </tbody>\n",
       "</table>\n",
       "</div>"
      ],
      "text/plain": [
       "         model_name     score          RMSE\n",
       "0  Ridge_Regression  0.231142  1.123323e+07\n",
       "1     NeuralNetwork -5.124911  3.179770e+07\n",
       "2     NeuralNetwork -5.099450  3.173155e+07"
      ]
     },
     "execution_count": 103,
     "metadata": {},
     "output_type": "execute_result"
    }
   ],
   "source": [
    "trainer.performance_df"
   ]
  },
  {
   "cell_type": "code",
   "execution_count": null,
   "metadata": {},
   "outputs": [],
   "source": [
    "test = pd.read_csv('../data/Test_dataset.csv')"
   ]
  },
  {
   "cell_type": "code",
   "execution_count": null,
   "metadata": {},
   "outputs": [],
   "source": [
    "test.columns = test.columns.str.lower().str.replace(' ', '_')"
   ]
  },
  {
   "cell_type": "code",
   "execution_count": null,
   "metadata": {},
   "outputs": [],
   "source": [
    "new_column_name = label_encode[2].column_name\n",
    "test = test.rename(columns={'endoresed_by': new_column_name})"
   ]
  },
  {
   "cell_type": "code",
   "execution_count": null,
   "metadata": {},
   "outputs": [],
   "source": [
    "label_encode[0] = pp.PreLabelEncoderConfig(\n",
    "    column_name='city',\n",
    "    label_encoding=list({pp.LabelEncodingDict(key, idx + 1) for idx, key in enumerate(test.city.value_counts().keys())}))"
   ]
  },
  {
   "cell_type": "code",
   "execution_count": null,
   "metadata": {},
   "outputs": [],
   "source": [
    "model_config_test = pp.PreProcessingConfig(\n",
    "    encoding_dummies=[],\n",
    "    exclude_columns=['opening_day_of_restaurant','registration_number'],\n",
    "    label_encode=label_encode,\n",
    "    numeric_cols_data_changer=numeric_col_changer,\n",
    "    target_column=''\n",
    ")"
   ]
  },
  {
   "cell_type": "code",
   "execution_count": null,
   "metadata": {},
   "outputs": [],
   "source": [
    "test = pp.process_test(test,model_config_test)"
   ]
  },
  {
   "cell_type": "code",
   "execution_count": null,
   "metadata": {},
   "outputs": [],
   "source": [
    "test.city.value_counts()"
   ]
  },
  {
   "cell_type": "code",
   "execution_count": null,
   "metadata": {},
   "outputs": [],
   "source": [
    "data.transform_test_data(test)"
   ]
  }
 ],
 "metadata": {
  "kernelspec": {
   "display_name": "Python 3",
   "language": "python",
   "name": "python3"
  },
  "language_info": {
   "codemirror_mode": {
    "name": "ipython",
    "version": 3
   },
   "file_extension": ".py",
   "mimetype": "text/x-python",
   "name": "python",
   "nbconvert_exporter": "python",
   "pygments_lexer": "ipython3",
   "version": "3.10.11"
  }
 },
 "nbformat": 4,
 "nbformat_minor": 2
}
