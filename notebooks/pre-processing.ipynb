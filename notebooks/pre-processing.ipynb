{
 "cells": [
  {
   "cell_type": "code",
   "execution_count": null,
   "metadata": {},
   "outputs": [],
   "source": [
    "%load_ext autoreload\n",
    "%autoreload 2\n"
   ]
  },
  {
   "cell_type": "code",
   "execution_count": null,
   "metadata": {},
   "outputs": [],
   "source": [
    "import pandas as pd"
   ]
  },
  {
   "cell_type": "code",
   "execution_count": null,
   "metadata": {},
   "outputs": [],
   "source": [
    "train = pd.read_csv('../data/Train_dataset.csv')\n",
    "train.head(1)"
   ]
  },
  {
   "cell_type": "code",
   "execution_count": null,
   "metadata": {},
   "outputs": [],
   "source": [
    "from kp_auto_ml import pre_processing as pp"
   ]
  },
  {
   "cell_type": "code",
   "execution_count": null,
   "metadata": {},
   "outputs": [],
   "source": [
    "train.columns = train.columns.str.lower().str.replace(' ', '_')"
   ]
  },
  {
   "cell_type": "code",
   "execution_count": null,
   "metadata": {},
   "outputs": [],
   "source": [
    "train.head(1)"
   ]
  },
  {
   "cell_type": "code",
   "execution_count": null,
   "metadata": {},
   "outputs": [],
   "source": [
    "label_encode:list[pp.PreLabelEncoderConfig] = []\n",
    "label_encode.append(pp.PreLabelEncoderConfig(\n",
    "    column_name='city',\n",
    "    label_encoding=list({pp.LabelEncodingDict(key, idx + 1) for idx, key in enumerate(train.city.value_counts().keys())}))\n",
    "    )\n",
    "label_encode.append(pp.PreLabelEncoderConfig(\n",
    "    column_name='restaurant_location',\n",
    "    label_encoding=list({pp.LabelEncodingDict(key, idx + 1) for idx, key in enumerate(train.restaurant_location.value_counts().keys())}))\n",
    "    )\n",
    "label_encode.append(pp.PreLabelEncoderConfig(\n",
    "    column_name='endorsed_by',\n",
    "    label_encoding=list({pp.LabelEncodingDict(key, idx + 1) for idx, key in enumerate(train.endorsed_by.value_counts().keys())}))\n",
    "    )\n",
    "label_encode.append(pp.PreLabelEncoderConfig(\n",
    "    column_name='restaurant_theme',\n",
    "    label_encoding=list({pp.LabelEncodingDict(key, idx + 1) for idx, key in enumerate(train.restaurant_theme.value_counts().keys())}))\n",
    "    )\n",
    "label_encode.append(pp.PreLabelEncoderConfig(\n",
    "    column_name='restaurant_type',\n",
    "    label_encoding=list({pp.LabelEncodingDict(key, idx + 1) for idx, key in enumerate(train.restaurant_type.value_counts().keys())}))\n",
    "    )\n",
    "label_encode.append(pp.PreLabelEncoderConfig(\n",
    "    column_name='cuisine',\n",
    "    label_encoding=list({pp.LabelEncodingDict(key, idx + 1) for idx, key in enumerate(train.cuisine.value_counts().keys())}))\n",
    "    )\n",
    "\n",
    "numeric_col_changer:list[pp.PreNumericColDataChangeConfig] = []\n",
    "numeric_col_changer.append(pp.PreNumericColDataChangeConfig(col_name='facebook_popularity_quotient',data_type=int))\n",
    "numeric_col_changer.append(pp.PreNumericColDataChangeConfig(col_name='instagram_popularity_quotient',data_type=int))\n",
    "numeric_col_changer.append(pp.PreNumericColDataChangeConfig(col_name='overall_restaurant_rating',data_type=int))\n",
    "numeric_col_changer.append(pp.PreNumericColDataChangeConfig(col_name='live_music_rating',data_type=int))\n",
    "numeric_col_changer.append(pp.PreNumericColDataChangeConfig(col_name='ambience',data_type=int))\n",
    "numeric_col_changer.append(pp.PreNumericColDataChangeConfig(col_name='resturant_tier',data_type=int))\n",
    "\n",
    "model_config = pp.PreProcessingConfig(\n",
    "    encoding_dummies=[],\n",
    "    exclude_columns=['opening_day_of_restaurant','registration_number'],\n",
    "    label_encode=label_encode,\n",
    "    numeric_cols_data_changer=numeric_col_changer,\n",
    "    target_column='annual_turnover'\n",
    ")"
   ]
  },
  {
   "cell_type": "code",
   "execution_count": null,
   "metadata": {},
   "outputs": [],
   "source": [
    "pre_processed_df = pp.process(train,model_config)"
   ]
  },
  {
   "cell_type": "code",
   "execution_count": null,
   "metadata": {},
   "outputs": [],
   "source": [
    "from kp_auto_ml import model_training_data_prep as dp"
   ]
  },
  {
   "cell_type": "code",
   "execution_count": null,
   "metadata": {},
   "outputs": [],
   "source": [
    "# Assuming dp.ModelTrainingData(pre_processed_df, dp.ScalerType.STANDARD_SCALER, .95) returns an instance of YourClass\n",
    "\n",
    "# Create an instance of YourClass\n",
    "your_instance = dp.ModelTrainingData(pre_processed_df, dp.ScalerType.STANDARD_SCALER, .90)\n",
    "\n",
    "# Generate permutations and assign the result to a single variable\n",
    "for permuted_data in your_instance.generate_permutations_train(min_columns=25):\n",
    "    X_train_permuted, X_val_permuted, X_test_permuted = permuted_data\n",
    "    # print(X_train_permuted[0][24])"
   ]
  }
 ],
 "metadata": {
  "kernelspec": {
   "display_name": "Python 3",
   "language": "python",
   "name": "python3"
  },
  "language_info": {
   "codemirror_mode": {
    "name": "ipython",
    "version": 3
   },
   "file_extension": ".py",
   "mimetype": "text/x-python",
   "name": "python",
   "nbconvert_exporter": "python",
   "pygments_lexer": "ipython3",
   "version": "3.10.11"
  }
 },
 "nbformat": 4,
 "nbformat_minor": 2
}
